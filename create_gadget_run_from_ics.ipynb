{
 "cells": [
  {
   "cell_type": "code",
   "execution_count": 1,
   "metadata": {
    "ExecuteTime": {
     "end_time": "2019-05-12T18:11:01.385485Z",
     "start_time": "2019-05-12T18:11:01.367779Z"
    }
   },
   "outputs": [],
   "source": [
    "from music.models import MusicGadgetIc\n",
    "from core.models import Category\n",
    "from music.utils import setup_run\n",
    "from gadget.models import GadgetRun\n",
    "\n",
    "import numpy as np\n",
    "\n",
    "from hog import settings\n",
    "\n",
    "from astropy import units as u\n",
    "\n",
    "\n",
    "from tqdm import tqdm_notebook"
   ]
  },
  {
   "cell_type": "code",
   "execution_count": 2,
   "metadata": {
    "ExecuteTime": {
     "end_time": "2019-05-12T18:11:04.207911Z",
     "start_time": "2019-05-12T18:11:04.192469Z"
    }
   },
   "outputs": [],
   "source": [
    "# cat = Category.objects.filter(name='selection 2')\n",
    "# cat = Category.objects.get(name='Lim_2Rvir')\n",
    "# cat = Category.objects.get(name='Lim_4Rvir')\n",
    "cat = Category.objects.get(name='MARE19')\n",
    "\n",
    "ics = MusicGadgetIc.objects.filter(category=cat)"
   ]
  },
  {
   "cell_type": "code",
   "execution_count": 3,
   "metadata": {
    "ExecuteTime": {
     "end_time": "2019-05-12T18:11:07.836992Z",
     "start_time": "2019-05-12T18:11:07.829336Z"
    }
   },
   "outputs": [],
   "source": [
    "def get_ic_location(ic, music_media='/fast_scratch1/lbignone/hog/media/'):\n",
    "\n",
    "    root = settings.MEDIA_ROOT\n",
    "\n",
    "    path = ic.get_path()\n",
    "    path_strip = path[len(root):]\n",
    "    ic_filename = music_media + path_strip + str(ic.id) + '_' + ic.filename\n",
    "\n",
    "    return ic_filename"
   ]
  },
  {
   "cell_type": "code",
   "execution_count": 4,
   "metadata": {
    "ExecuteTime": {
     "end_time": "2019-05-12T18:11:07.993690Z",
     "start_time": "2019-05-12T18:11:07.989221Z"
    }
   },
   "outputs": [],
   "source": [
    "def estimate_softening(boxlength, level, factor=1./25):\n",
    "    d = boxlength / (2**level)\n",
    "    return d/25"
   ]
  },
  {
   "cell_type": "code",
   "execution_count": 5,
   "metadata": {
    "ExecuteTime": {
     "end_time": "2019-05-12T18:11:08.175337Z",
     "start_time": "2019-05-12T18:11:08.168880Z"
    }
   },
   "outputs": [],
   "source": [
    "def get_maximum_phys_softening(softening, redshift_limit=2.91):\n",
    "    a_lim = 1./(1. + redshift_limit)\n",
    "    return a_lim*softening"
   ]
  },
  {
   "cell_type": "code",
   "execution_count": 6,
   "metadata": {
    "ExecuteTime": {
     "end_time": "2019-05-12T18:11:08.685031Z",
     "start_time": "2019-05-12T18:11:08.676620Z"
    }
   },
   "outputs": [],
   "source": [
    "media_root = '/fast_scratch1/lbignone/hog/media/'"
   ]
  },
  {
   "cell_type": "code",
   "execution_count": 7,
   "metadata": {
    "ExecuteTime": {
     "end_time": "2019-05-12T18:11:10.721527Z",
     "start_time": "2019-05-12T18:11:10.698335Z"
    }
   },
   "outputs": [],
   "source": [
    "def set_gr(gr=None, ic=None, music_media='/fast_scratch1/lbignone/hog/media/'):\n",
    "    \n",
    "    # if no gr is provided create one based on the provided ic\n",
    "    if gr is None:\n",
    "    \n",
    "        gr = GadgetRun()\n",
    "        gr.ic = ic\n",
    "    \n",
    "        gr.save()\n",
    "    \n",
    "        name = ic.name\n",
    "        \n",
    "        gr.name = name\n",
    "        gr.category.add(cat)\n",
    "        \n",
    "    else:\n",
    "        ic = gr.ic\n",
    "    \n",
    "    name_id = str(gr.id) + '_' + gr.name\n",
    "    \n",
    "    # makefile options\n",
    "    gr.DOUBLEPRECISION = True\n",
    "    gr.DOUBLEPRECISION_FFTW = True\n",
    "    gr.UNEQUALSOFTENINGS = True\n",
    "    gr.OUTPUTPOTENTIAL = True\n",
    "    gr.PLACEHIGHRESREGION = 3\n",
    "    gr.ENLARGEREGION = 1.2\n",
    "    \n",
    "    # Filenames and file formats \n",
    "    gr.OutputDir = media_root + '/gadget/run/' + name_id\n",
    "    gr.file_number = 10    \n",
    "    gr.InitCondFile = get_ic_location(ic, music_media=music_media)\n",
    "    \n",
    "    # Simulation specific parameters\n",
    "    gr.TimeBegin = 1./(1.+ic.zstart)\n",
    "    gr.boxlength = ic.boxlength * u.Mpc.to('kpc')\n",
    "    gr.Omega_m = ic.Omega_m\n",
    "    gr.Omega_l = ic.Omega_L\n",
    "    gr.Omega_b = ic.Omega_b\n",
    "    gr.h = ic.H0 / 100\n",
    "    \n",
    "    # Output of snapshot files \n",
    "    gr.OutputListOn = True\n",
    "    gr.OutputListFilename = '/home/lbignone/wmmw/ExpansionList_64'\n",
    "    gr.TimeBetStatistics = 0.05\n",
    "    gr.NumFilesWrittenInParallel = 10\n",
    "    \n",
    "    levelmax = ic.levelmax\n",
    "    levelmin = ic.levelmin\n",
    "    \n",
    "    softenings = []\n",
    "    for level in range(levelmin, levelmax+1):\n",
    "        softening = estimate_softening(gr.boxlength, level)\n",
    "        softenings.append(softening)\n",
    "    softenings = np.array(softenings)\n",
    "           \n",
    "    # High-resolution softenings\n",
    "    gr.SofteningGas = softenings[-1]\n",
    "    gr.SofteningHalo = softenings[-1]\n",
    "    gr.SofteningStars = softenings[-1]\n",
    "    \n",
    "    # low-resolution softenings\n",
    "    gr.SofteningBndry = softenings[0]\n",
    "    \n",
    "    # medium-resolution softenings\n",
    "    gr.SofteningDisk = softenings[-2]\n",
    "    \n",
    "    medium_softening = softenings[1:-2].sum() / len(softenings[1:-2])\n",
    "            \n",
    "    gr.SofteningBulge = medium_softening\n",
    "    \n",
    "    gr.SofteningGasMaxPhys = get_maximum_phys_softening(gr.SofteningGas)\n",
    "    gr.SofteningHaloMaxPhys = get_maximum_phys_softening(gr.SofteningHalo)\n",
    "    gr.SofteningDiskMaxPhys = get_maximum_phys_softening(gr.SofteningDisk)\n",
    "    gr.SofteningBulgeMaxPhys = get_maximum_phys_softening(gr.SofteningBulge)\n",
    "    gr.SofteningStarsMaxPhys = get_maximum_phys_softening(gr.SofteningStars)\n",
    "    gr.SofteningBndryMaxPhys = get_maximum_phys_softening(gr.SofteningBndry)\n",
    "    \n",
    "    gr.save()\n",
    "\n"
   ]
  },
  {
   "cell_type": "code",
   "execution_count": 30,
   "metadata": {
    "ExecuteTime": {
     "end_time": "2019-05-12T18:24:54.213500Z",
     "start_time": "2019-05-12T18:24:54.201511Z"
    }
   },
   "outputs": [],
   "source": [
    "ics = MusicGadgetIc.objects.filter(category=cat)\n",
    "# ics = ics[13:14]\n",
    "\n",
    "ics = ics.filter(name='229533_DM_L12')\n",
    "\n",
    "ics = [ics[1]]"
   ]
  },
  {
   "cell_type": "code",
   "execution_count": 31,
   "metadata": {
    "ExecuteTime": {
     "end_time": "2019-05-12T18:24:57.739545Z",
     "start_time": "2019-05-12T18:24:57.599625Z"
    }
   },
   "outputs": [],
   "source": [
    "for ic in ics:\n",
    "    set_gr(gr=None, ic=ic)"
   ]
  },
  {
   "cell_type": "code",
   "execution_count": 32,
   "metadata": {
    "ExecuteTime": {
     "end_time": "2019-05-12T18:25:04.383167Z",
     "start_time": "2019-05-12T18:25:04.377385Z"
    }
   },
   "outputs": [],
   "source": [
    "from gadget.utils import save_makefile, save_config, save_pbs_file, transfer_to_host"
   ]
  },
  {
   "cell_type": "code",
   "execution_count": 33,
   "metadata": {
    "ExecuteTime": {
     "end_time": "2019-05-12T18:25:05.212262Z",
     "start_time": "2019-05-12T18:25:05.195279Z"
    }
   },
   "outputs": [
    {
     "data": {
      "text/plain": [
       "<PolymorphicQuerySet [<GadgetRun: 229533_DM_L12>, <GadgetRun: 229533_DM_L12>, <GadgetRun: 229533_DM_L12>]>"
      ]
     },
     "execution_count": 33,
     "metadata": {},
     "output_type": "execute_result"
    }
   ],
   "source": [
    "grs = GadgetRun.objects.filter(category=cat, name='229533_DM_L12')\n",
    "grs"
   ]
  },
  {
   "cell_type": "code",
   "execution_count": 34,
   "metadata": {
    "ExecuteTime": {
     "end_time": "2019-05-12T18:25:10.276013Z",
     "start_time": "2019-05-12T18:25:10.264407Z"
    }
   },
   "outputs": [
    {
     "data": {
      "text/plain": [
       "<GadgetRun: 229533_DM_L12>"
      ]
     },
     "execution_count": 34,
     "metadata": {},
     "output_type": "execute_result"
    }
   ],
   "source": [
    "gr = grs[2]\n",
    "gr"
   ]
  },
  {
   "cell_type": "code",
   "execution_count": 35,
   "metadata": {
    "ExecuteTime": {
     "end_time": "2019-05-12T18:25:21.323808Z",
     "start_time": "2019-05-12T18:25:11.467092Z"
    }
   },
   "outputs": [],
   "source": [
    "save_makefile(gr, systype='Geryon2_gnu')\n",
    "save_config(gr)\n",
    "save_pbs_file(gr, nodes=3, ppn=40, template='geryon.pbs', module_load_list='gnu')\n",
    "transfer_to_host(gr, host='geryon2', media_path='/fast_scratch1/lbignone/hog/media')"
   ]
  },
  {
   "cell_type": "code",
   "execution_count": 16,
   "metadata": {
    "ExecuteTime": {
     "end_time": "2017-12-27T18:49:20.184257Z",
     "start_time": "2017-12-27T18:49:18.951447Z"
    }
   },
   "outputs": [],
   "source": [
    "save_makefile(gr, systype='NLHPC_intel')\n",
    "save_config(gr)\n",
    "\n",
    "modules = 'module load intel impi fftw_intel/2.1.5 gsl'\n",
    "\n",
    "save_pbs_file(gr, nodes=6, ppn=20, template='nlhpc.pbs', module_load_list=modules)\n",
    "transfer_to_host(gr, host='leftraru.nlhpc.cl', media_path='/home/lbignone/hog/media/')\n"
   ]
  },
  {
   "cell_type": "code",
   "execution_count": 15,
   "metadata": {
    "ExecuteTime": {
     "end_time": "2019-05-11T17:20:39.868037Z",
     "start_time": "2019-05-11T17:20:39.860357Z"
    }
   },
   "outputs": [
    {
     "data": {
      "text/plain": [
       "<GadgetRun: 181619_DM_L12>"
      ]
     },
     "execution_count": 15,
     "metadata": {},
     "output_type": "execute_result"
    }
   ],
   "source": [
    "gr"
   ]
  },
  {
   "cell_type": "code",
   "execution_count": null,
   "metadata": {},
   "outputs": [],
   "source": []
  }
 ],
 "metadata": {
  "kernelspec": {
   "display_name": "Django Shell-Plus",
   "language": "python",
   "name": "django_extensions"
  },
  "language_info": {
   "codemirror_mode": {
    "name": "ipython",
    "version": 3
   },
   "file_extension": ".py",
   "mimetype": "text/x-python",
   "name": "python",
   "nbconvert_exporter": "python",
   "pygments_lexer": "ipython3",
   "version": "3.5.2"
  },
  "toc": {
   "base_numbering": 1,
   "nav_menu": {
    "height": "12px",
    "width": "252px"
   },
   "number_sections": true,
   "sideBar": true,
   "skip_h1_title": false,
   "title_cell": "Table of Contents",
   "title_sidebar": "Contents",
   "toc_cell": false,
   "toc_position": {},
   "toc_section_display": "block",
   "toc_window_display": false
  }
 },
 "nbformat": 4,
 "nbformat_minor": 2
}

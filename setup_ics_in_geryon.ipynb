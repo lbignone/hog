{
 "cells": [
  {
   "cell_type": "code",
   "execution_count": 1,
   "metadata": {
    "ExecuteTime": {
     "end_time": "2019-05-22T17:52:58.173470Z",
     "start_time": "2019-05-22T17:52:58.121416Z"
    }
   },
   "outputs": [],
   "source": [
    "from music.models import MusicGadgetIc\n",
    "from core.models import Category\n",
    "from music.utils import setup_run\n",
    "\n",
    "from tqdm import tqdm_notebook"
   ]
  },
  {
   "cell_type": "code",
   "execution_count": 2,
   "metadata": {
    "ExecuteTime": {
     "end_time": "2019-05-22T17:52:59.388012Z",
     "start_time": "2019-05-22T17:52:59.384732Z"
    }
   },
   "outputs": [],
   "source": [
    "cat = Category.objects.filter(name='MARE19')\n",
    "\n",
    "ics = MusicGadgetIc.objects.filter(category=cat)"
   ]
  },
  {
   "cell_type": "code",
   "execution_count": 3,
   "metadata": {
    "ExecuteTime": {
     "end_time": "2019-05-22T17:52:59.952605Z",
     "start_time": "2019-05-22T17:52:59.769292Z"
    }
   },
   "outputs": [
    {
     "name": "stdout",
     "output_type": "stream",
     "text": [
      "0 660 33296_DM_L12\n",
      "1 661 95915_DM_L12\n",
      "2 662 116774_DM_L12\n",
      "3 663 241738_DM_L12\n",
      "4 664 33306_DM_L12\n",
      "5 665 206641_DM_L12\n",
      "6 666 229533_DM_L12\n",
      "7 667 124429_DM_L12\n",
      "8 668 32879_DM_L12\n",
      "9 669 70495_DM_L12\n",
      "10 670 147062_DM_L12\n",
      "11 671 136254_DM_L12\n",
      "12 672 136001_DM_L12\n",
      "13 673 206312_DM_L12\n",
      "14 674 79392_DM_L12\n",
      "15 675 193602_DM_L12\n",
      "16 676 1330_DM_L12\n",
      "17 677 146616_DM_L12\n",
      "18 678 123930_DM_L12\n",
      "19 679 135915_DM_L12\n",
      "20 680 181619_DM_L12\n",
      "21 681 146457_DM_L12\n",
      "22 682 21720_DM_L12\n",
      "23 683 147804_DM_L12\n",
      "24 684 124717_DM_L12\n",
      "25 685 51769_DM_L12\n",
      "26 686 157850_DM_L12\n",
      "27 687 240613_DM_L12\n",
      "28 688 193262_DM_L12\n",
      "29 690 33296_BARYONS_L12\n",
      "30 691 95915_BARYONS_L12\n",
      "31 692 116774_BARYONS_L12\n",
      "32 693 241738_BARYONS_L12\n",
      "33 694 33306_BARYONS_L12\n",
      "34 695 206641_BARYONS_L12\n",
      "35 696 229533_BARYONS_L12\n",
      "36 697 124429_BARYONS_L12\n",
      "37 698 32879_BARYONS_L12\n",
      "38 699 70495_BARYONS_L12\n",
      "39 700 147062_BARYONS_L12\n",
      "40 701 136254_BARYONS_L12\n",
      "41 702 136001_BARYONS_L12\n",
      "42 703 206312_BARYONS_L12\n",
      "43 704 79392_BARYONS_L12\n",
      "44 705 193602_BARYONS_L12\n",
      "45 706 1330_BARYONS_L12\n",
      "46 707 146616_BARYONS_L12\n",
      "47 708 123930_BARYONS_L12\n",
      "48 709 135915_BARYONS_L12\n",
      "49 710 181619_BARYONS_L12\n",
      "50 711 146457_BARYONS_L12\n",
      "51 712 21720_BARYONS_L12\n",
      "52 713 147804_BARYONS_L12\n",
      "53 714 124717_BARYONS_L12\n",
      "54 715 51769_BARYONS_L12\n",
      "55 716 157850_BARYONS_L12\n",
      "56 717 240613_BARYONS_L12\n",
      "57 718 193262_BARYONS_L12\n",
      "58 719 229533_DM_L12\n",
      "59 720 229533_BARYONS_L12\n",
      "60 721 206641_BARYONS_L12\n"
     ]
    }
   ],
   "source": [
    "ics = ics\n",
    "\n",
    "for i, ic in enumerate(ics):\n",
    "    print(i, ic.id, ic)"
   ]
  },
  {
   "cell_type": "code",
   "execution_count": 4,
   "metadata": {
    "ExecuteTime": {
     "end_time": "2019-05-22T17:53:32.963711Z",
     "start_time": "2019-05-22T17:53:32.960403Z"
    }
   },
   "outputs": [
    {
     "name": "stdout",
     "output_type": "stream",
     "text": [
      "0 697 124429_BARYONS_L12\n"
     ]
    }
   ],
   "source": [
    "ics = [ics[36]]\n",
    "\n",
    "for i, ic in enumerate(ics):\n",
    "    print(i, ic.id, ic)"
   ]
  },
  {
   "cell_type": "code",
   "execution_count": 5,
   "metadata": {
    "ExecuteTime": {
     "end_time": "2019-05-22T17:53:54.866797Z",
     "start_time": "2019-05-22T17:53:43.390606Z"
    }
   },
   "outputs": [
    {
     "data": {
      "application/vnd.jupyter.widget-view+json": {
       "model_id": "4e2b60e039994b8bbd0cc3cb7869af65",
       "version_major": 2,
       "version_minor": 0
      },
      "text/plain": [
       "HBox(children=(IntProgress(value=0, max=1), HTML(value='')))"
      ]
     },
     "metadata": {},
     "output_type": "display_data"
    },
    {
     "name": "stdout",
     "output_type": "stream",
     "text": [
      "\n"
     ]
    }
   ],
   "source": [
    "media_path = '/fast_scratch1/lbignone/hog/media'\n",
    "for ic in tqdm_notebook(ics):\n",
    "    setup_run(ic, host='geryon2', template='geryon.pbs', media_path=media_path, music_path='/home/lbignone/wmmw/codes/music/MUSIC', ppn=8)"
   ]
  },
  {
   "cell_type": "code",
   "execution_count": null,
   "metadata": {},
   "outputs": [],
   "source": []
  },
  {
   "cell_type": "code",
   "execution_count": 4,
   "metadata": {
    "ExecuteTime": {
     "end_time": "2019-03-01T22:23:19.475830Z",
     "start_time": "2019-03-01T22:23:19.470923Z"
    }
   },
   "outputs": [],
   "source": [
    "media_path = '/home/lbignone/Development/hog/media'\n",
    "# media_path = '/fast_scratch1/lbignone/hog/media'"
   ]
  },
  {
   "cell_type": "code",
   "execution_count": 5,
   "metadata": {
    "ExecuteTime": {
     "end_time": "2019-03-01T22:23:39.449265Z",
     "start_time": "2019-03-01T22:23:20.670830Z"
    }
   },
   "outputs": [
    {
     "data": {
      "application/vnd.jupyter.widget-view+json": {
       "model_id": "729660c7c04a4ec391cced3c011cfd79",
       "version_major": 2,
       "version_minor": 0
      },
      "text/plain": [
       "HBox(children=(IntProgress(value=0, max=29), HTML(value='')))"
      ]
     },
     "metadata": {},
     "output_type": "display_data"
    },
    {
     "name": "stdout",
     "output_type": "stream",
     "text": [
      "\n"
     ]
    }
   ],
   "source": [
    "for ic in tqdm_notebook(ics):\n",
    "    setup_run(ic, host='Casona', template='casona.pbs', media_path=media_path, music_path='/home/lbignone/Development/music/MUSIC')"
   ]
  },
  {
   "cell_type": "code",
   "execution_count": 6,
   "metadata": {
    "ExecuteTime": {
     "end_time": "2019-03-01T22:24:08.474934Z",
     "start_time": "2019-03-01T22:24:08.458239Z"
    }
   },
   "outputs": [
    {
     "name": "stdout",
     "output_type": "stream",
     "text": [
      "cd /home/lbignone/Development/hog/media/music/660_33296_DM_L12/\n",
      "chmod +x 660_33296_DM_L12.pbs\n",
      "./660_33296_DM_L12.pbs\n",
      "cd /home/lbignone/Development/hog/media/music/661_95915_DM_L12/\n",
      "chmod +x 661_95915_DM_L12.pbs\n",
      "./661_95915_DM_L12.pbs\n",
      "cd /home/lbignone/Development/hog/media/music/662_116774_DM_L12/\n",
      "chmod +x 662_116774_DM_L12.pbs\n",
      "./662_116774_DM_L12.pbs\n",
      "cd /home/lbignone/Development/hog/media/music/663_241738_DM_L12/\n",
      "chmod +x 663_241738_DM_L12.pbs\n",
      "./663_241738_DM_L12.pbs\n",
      "cd /home/lbignone/Development/hog/media/music/664_33306_DM_L12/\n",
      "chmod +x 664_33306_DM_L12.pbs\n",
      "./664_33306_DM_L12.pbs\n",
      "cd /home/lbignone/Development/hog/media/music/665_206641_DM_L12/\n",
      "chmod +x 665_206641_DM_L12.pbs\n",
      "./665_206641_DM_L12.pbs\n",
      "cd /home/lbignone/Development/hog/media/music/666_229533_DM_L12/\n",
      "chmod +x 666_229533_DM_L12.pbs\n",
      "./666_229533_DM_L12.pbs\n",
      "cd /home/lbignone/Development/hog/media/music/667_124429_DM_L12/\n",
      "chmod +x 667_124429_DM_L12.pbs\n",
      "./667_124429_DM_L12.pbs\n",
      "cd /home/lbignone/Development/hog/media/music/668_32879_DM_L12/\n",
      "chmod +x 668_32879_DM_L12.pbs\n",
      "./668_32879_DM_L12.pbs\n",
      "cd /home/lbignone/Development/hog/media/music/669_70495_DM_L12/\n",
      "chmod +x 669_70495_DM_L12.pbs\n",
      "./669_70495_DM_L12.pbs\n",
      "cd /home/lbignone/Development/hog/media/music/670_147062_DM_L12/\n",
      "chmod +x 670_147062_DM_L12.pbs\n",
      "./670_147062_DM_L12.pbs\n",
      "cd /home/lbignone/Development/hog/media/music/671_136254_DM_L12/\n",
      "chmod +x 671_136254_DM_L12.pbs\n",
      "./671_136254_DM_L12.pbs\n",
      "cd /home/lbignone/Development/hog/media/music/672_136001_DM_L12/\n",
      "chmod +x 672_136001_DM_L12.pbs\n",
      "./672_136001_DM_L12.pbs\n",
      "cd /home/lbignone/Development/hog/media/music/673_206312_DM_L12/\n",
      "chmod +x 673_206312_DM_L12.pbs\n",
      "./673_206312_DM_L12.pbs\n",
      "cd /home/lbignone/Development/hog/media/music/674_79392_DM_L12/\n",
      "chmod +x 674_79392_DM_L12.pbs\n",
      "./674_79392_DM_L12.pbs\n",
      "cd /home/lbignone/Development/hog/media/music/675_193602_DM_L12/\n",
      "chmod +x 675_193602_DM_L12.pbs\n",
      "./675_193602_DM_L12.pbs\n",
      "cd /home/lbignone/Development/hog/media/music/676_1330_DM_L12/\n",
      "chmod +x 676_1330_DM_L12.pbs\n",
      "./676_1330_DM_L12.pbs\n",
      "cd /home/lbignone/Development/hog/media/music/677_146616_DM_L12/\n",
      "chmod +x 677_146616_DM_L12.pbs\n",
      "./677_146616_DM_L12.pbs\n",
      "cd /home/lbignone/Development/hog/media/music/678_123930_DM_L12/\n",
      "chmod +x 678_123930_DM_L12.pbs\n",
      "./678_123930_DM_L12.pbs\n",
      "cd /home/lbignone/Development/hog/media/music/679_135915_DM_L12/\n",
      "chmod +x 679_135915_DM_L12.pbs\n",
      "./679_135915_DM_L12.pbs\n",
      "cd /home/lbignone/Development/hog/media/music/680_181619_DM_L12/\n",
      "chmod +x 680_181619_DM_L12.pbs\n",
      "./680_181619_DM_L12.pbs\n",
      "cd /home/lbignone/Development/hog/media/music/681_146457_DM_L12/\n",
      "chmod +x 681_146457_DM_L12.pbs\n",
      "./681_146457_DM_L12.pbs\n",
      "cd /home/lbignone/Development/hog/media/music/682_21720_DM_L12/\n",
      "chmod +x 682_21720_DM_L12.pbs\n",
      "./682_21720_DM_L12.pbs\n",
      "cd /home/lbignone/Development/hog/media/music/683_147804_DM_L12/\n",
      "chmod +x 683_147804_DM_L12.pbs\n",
      "./683_147804_DM_L12.pbs\n",
      "cd /home/lbignone/Development/hog/media/music/684_124717_DM_L12/\n",
      "chmod +x 684_124717_DM_L12.pbs\n",
      "./684_124717_DM_L12.pbs\n",
      "cd /home/lbignone/Development/hog/media/music/685_51769_DM_L12/\n",
      "chmod +x 685_51769_DM_L12.pbs\n",
      "./685_51769_DM_L12.pbs\n",
      "cd /home/lbignone/Development/hog/media/music/686_157850_DM_L12/\n",
      "chmod +x 686_157850_DM_L12.pbs\n",
      "./686_157850_DM_L12.pbs\n",
      "cd /home/lbignone/Development/hog/media/music/687_240613_DM_L12/\n",
      "chmod +x 687_240613_DM_L12.pbs\n",
      "./687_240613_DM_L12.pbs\n",
      "cd /home/lbignone/Development/hog/media/music/688_193262_DM_L12/\n",
      "chmod +x 688_193262_DM_L12.pbs\n",
      "./688_193262_DM_L12.pbs\n"
     ]
    }
   ],
   "source": [
    "for i, ic in enumerate(ics):\n",
    "    \n",
    "    folder = media_path + '/music/' + str(ic.id) + '_' + str(ic) + '/'\n",
    "    fname = str(ic.id) + '_' + str(ic) + '.pbs'\n",
    "    cmd = './' + fname\n",
    "    print('cd ' + folder)\n",
    "    print('chmod +x ' + fname)\n",
    "    print(cmd)"
   ]
  },
  {
   "cell_type": "code",
   "execution_count": 20,
   "metadata": {
    "ExecuteTime": {
     "end_time": "2019-03-01T17:37:06.114295Z",
     "start_time": "2019-03-01T17:37:06.106711Z"
    }
   },
   "outputs": [
    {
     "data": {
      "text/plain": [
       "'33296_DM_L12'"
      ]
     },
     "execution_count": 20,
     "metadata": {},
     "output_type": "execute_result"
    }
   ],
   "source": [
    "str(ic)"
   ]
  },
  {
   "cell_type": "code",
   "execution_count": null,
   "metadata": {},
   "outputs": [],
   "source": []
  }
 ],
 "metadata": {
  "kernelspec": {
   "display_name": "Django Shell-Plus",
   "language": "python",
   "name": "django_extensions"
  },
  "language_info": {
   "codemirror_mode": {
    "name": "ipython",
    "version": 3
   },
   "file_extension": ".py",
   "mimetype": "text/x-python",
   "name": "python",
   "nbconvert_exporter": "python",
   "pygments_lexer": "ipython3",
   "version": "3.5.2"
  },
  "toc": {
   "base_numbering": 1,
   "nav_menu": {
    "height": "12px",
    "width": "252px"
   },
   "number_sections": true,
   "sideBar": true,
   "skip_h1_title": false,
   "title_cell": "Table of Contents",
   "title_sidebar": "Contents",
   "toc_cell": false,
   "toc_position": {},
   "toc_section_display": "block",
   "toc_window_display": false
  }
 },
 "nbformat": 4,
 "nbformat_minor": 2
}

{
 "cells": [
  {
   "cell_type": "code",
   "execution_count": 1,
   "metadata": {
    "ExecuteTime": {
     "end_time": "2018-05-10T15:18:00.771184Z",
     "start_time": "2018-05-10T15:18:00.539758Z"
    }
   },
   "outputs": [],
   "source": [
    "from music.models import MusicGadgetIc\n",
    "from core.models import Category\n",
    "from music.utils import setup_run\n",
    "\n",
    "from tqdm import tqdm_notebook"
   ]
  },
  {
   "cell_type": "code",
   "execution_count": 4,
   "metadata": {
    "ExecuteTime": {
     "end_time": "2018-05-10T15:19:37.190145Z",
     "start_time": "2018-05-10T15:19:37.186921Z"
    }
   },
   "outputs": [],
   "source": [
    "# cat = Category.objects.filter(name='selection 2')\n",
    "# cat = Category.objects.filter(name='Lim_5Rvir')\n",
    "# cat = Category.objects.filter(name='Lim_2Rvir')\n",
    "# cat = Category.objects.filter(name='Lim_4Rvir')\n",
    "# cat = Category.objects.filter(name='Lim_4Rvir')\n",
    "# cat = Category.objects.filter(name='L11_Baryons')\n",
    "cat = Category.objects.filter(name='Picasso')\n",
    "\n",
    "# ics = MusicGadgetIc.objects.filter(category=cat, name__contains='32879', levelmax=12)\n",
    "ics = MusicGadgetIc.objects.filter(category=cat)"
   ]
  },
  {
   "cell_type": "code",
   "execution_count": 5,
   "metadata": {
    "ExecuteTime": {
     "end_time": "2018-05-10T15:19:37.670195Z",
     "start_time": "2018-05-10T15:19:37.665732Z"
    }
   },
   "outputs": [
    {
     "name": "stdout",
     "output_type": "stream",
     "text": [
      "0 652 147062_Baryons_L12_4Rvir\n",
      "1 653 136254_Baryons_L12_6Rvir\n",
      "2 654 1330_Baryons_L12_6Rvir\n",
      "3 655 135915_Baryons_L12_6Rvir\n",
      "4 656 181619_Baryons_L12_6Rvir\n",
      "5 657 136001_Baryons_L12_6Rvir\n"
     ]
    }
   ],
   "source": [
    "ics = ics\n",
    "\n",
    "for i, ic in enumerate(ics):\n",
    "    print(i, ic.id, ic)"
   ]
  },
  {
   "cell_type": "code",
   "execution_count": 6,
   "metadata": {
    "ExecuteTime": {
     "end_time": "2018-05-10T15:19:51.950544Z",
     "start_time": "2018-05-10T15:19:51.948610Z"
    }
   },
   "outputs": [],
   "source": [
    "media_path = '/data5/lbignone/hog/media'\n",
    "# media_path = '/fast_scratch1/lbignone/hog/media'"
   ]
  },
  {
   "cell_type": "code",
   "execution_count": 7,
   "metadata": {
    "ExecuteTime": {
     "end_time": "2018-05-10T15:20:59.145051Z",
     "start_time": "2018-05-10T15:19:53.085808Z"
    }
   },
   "outputs": [
    {
     "data": {
      "application/vnd.jupyter.widget-view+json": {
       "model_id": "895f93fd09374b77b3d305310eb65f40",
       "version_major": 2,
       "version_minor": 0
      },
      "text/plain": [
       "HBox(children=(IntProgress(value=0, max=6), HTML(value='')))"
      ]
     },
     "metadata": {},
     "output_type": "display_data"
    },
    {
     "name": "stdout",
     "output_type": "stream",
     "text": [
      "\n"
     ]
    }
   ],
   "source": [
    "for ic in tqdm_notebook(ics):\n",
    "    setup_run(ic, media_path=media_path, music_path='/home/lbignone/wmmw/codes/music/MUSIC')"
   ]
  },
  {
   "cell_type": "code",
   "execution_count": 8,
   "metadata": {
    "ExecuteTime": {
     "end_time": "2017-11-04T19:06:18.536260Z",
     "start_time": "2017-11-04T19:06:18.469351Z"
    }
   },
   "outputs": [
    {
     "ename": "TypeError",
     "evalue": "setup_run() got an unexpected keyword argument 'post_action'",
     "output_type": "error",
     "traceback": [
      "\u001b[0;31m---------------------------------------------------------------------------\u001b[0m",
      "\u001b[0;31mTypeError\u001b[0m                                 Traceback (most recent call last)",
      "\u001b[0;32m<ipython-input-8-b93031ceccec>\u001b[0m in \u001b[0;36m<module>\u001b[0;34m()\u001b[0m\n\u001b[0;32m----> 1\u001b[0;31m \u001b[0msetup_run\u001b[0m\u001b[0;34m(\u001b[0m\u001b[0mics\u001b[0m\u001b[0;34m[\u001b[0m\u001b[0;36m7\u001b[0m\u001b[0;34m]\u001b[0m\u001b[0;34m,\u001b[0m \u001b[0mpost_action\u001b[0m\u001b[0;34m=\u001b[0m\u001b[0;34m'python $HOME/wmmw/initial_conditions/spread.py *.dat'\u001b[0m\u001b[0;34m)\u001b[0m\u001b[0;34m\u001b[0m\u001b[0m\n\u001b[0m",
      "\u001b[0;31mTypeError\u001b[0m: setup_run() got an unexpected keyword argument 'post_action'"
     ]
    }
   ],
   "source": [
    "setup_run(ics[7], post_action='python $HOME/wmmw/initial_conditions/spread.py *.dat')"
   ]
  },
  {
   "cell_type": "code",
   "execution_count": 7,
   "metadata": {
    "ExecuteTime": {
     "end_time": "2017-11-06T13:46:52.889302Z",
     "start_time": "2017-11-06T13:46:52.872209Z"
    }
   },
   "outputs": [
    {
     "name": "stdout",
     "output_type": "stream",
     "text": [
      "0 638 79392_DM_L12\n"
     ]
    }
   ],
   "source": [
    "ics = MusicGadgetIc.objects.filter(name__contains='79392', category=cat)\n",
    "for i, ic in enumerate(ics):\n",
    "    print(i, ic.id, ic)"
   ]
  },
  {
   "cell_type": "code",
   "execution_count": 10,
   "metadata": {
    "ExecuteTime": {
     "end_time": "2017-11-06T13:47:39.956399Z",
     "start_time": "2017-11-06T13:47:38.996329Z"
    }
   },
   "outputs": [],
   "source": [
    "setup_run(ics[0], media_path=media_path, music_path='/home/lbignone/wmmw/codes/music/MUSIC')"
   ]
  },
  {
   "cell_type": "code",
   "execution_count": null,
   "metadata": {
    "collapsed": true
   },
   "outputs": [],
   "source": [
    "ic."
   ]
  }
 ],
 "metadata": {
  "kernelspec": {
   "display_name": "Django Shell-Plus",
   "language": "python",
   "name": "django_extensions"
  },
  "language_info": {
   "codemirror_mode": {
    "name": "ipython",
    "version": 3
   },
   "file_extension": ".py",
   "mimetype": "text/x-python",
   "name": "python",
   "nbconvert_exporter": "python",
   "pygments_lexer": "ipython3",
   "version": "3.5.2"
  },
  "toc": {
   "colors": {
    "hover_highlight": "#DAA520",
    "navigate_num": "#000000",
    "navigate_text": "#333333",
    "running_highlight": "#FF0000",
    "selected_highlight": "#FFD700",
    "sidebar_border": "#EEEEEE",
    "wrapper_background": "#FFFFFF"
   },
   "moveMenuLeft": true,
   "nav_menu": {
    "height": "12px",
    "width": "252px"
   },
   "navigate_menu": true,
   "number_sections": true,
   "sideBar": true,
   "threshold": 4,
   "toc_cell": false,
   "toc_section_display": "block",
   "toc_window_display": false,
   "widenNotebook": false
  }
 },
 "nbformat": 4,
 "nbformat_minor": 2
}

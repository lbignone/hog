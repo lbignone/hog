{
 "cells": [
  {
   "cell_type": "code",
   "execution_count": 1,
   "metadata": {
    "ExecuteTime": {
     "end_time": "2019-03-01T11:05:38.373962Z",
     "start_time": "2019-03-01T11:05:37.874093Z"
    }
   },
   "outputs": [],
   "source": [
    "import pandas as pd\n",
    "import numpy as np\n",
    "from astropy.utils.console import ProgressBar\n",
    "\n",
    "from tqdm import tqdm_notebook\n",
    "\n",
    "from matplotlib import pyplot as plt\n",
    "%matplotlib inline"
   ]
  },
  {
   "cell_type": "code",
   "execution_count": 1,
   "metadata": {
    "ExecuteTime": {
     "end_time": "2019-03-01T11:12:11.726206Z",
     "start_time": "2019-03-01T11:12:11.722619Z"
    }
   },
   "outputs": [
    {
     "name": "stdout",
     "output_type": "stream",
     "text": [
      "sys.path BEFORE = ['', '/home/lbignone/Development/PTS/git', '/home/lbignone/Development/hog', '/home/lbignone/Development/pyro2', '/home/lbignone/Development/hog/notebooks', '/usr/lib/python35.zip', '/usr/lib/python3.5', '/usr/lib/python3.5/plat-x86_64-linux-gnu', '/usr/lib/python3.5/lib-dynload', '/home/lbignone/.local/lib/python3.5/site-packages', '/usr/local/lib/python3.5/dist-packages', '/usr/local/lib/python3.5/dist-packages/scikit_image-0.14.0-py3.5-linux-x86_64.egg', '/usr/local/lib/python3.5/dist-packages/dask-0.18.1-py3.5.egg', '/usr/local/lib/python3.5/dist-packages/toolz-0.9.0-py3.5.egg', '/usr/local/lib/python3.5/dist-packages/statmorph-0.3.1-py3.5.egg', '/usr/local/lib/python3.5/dist-packages/greenlet-0.4.14-py3.5-linux-x86_64.egg', '/usr/local/lib/python3.5/dist-packages/gevent-1.3.6-py3.5-linux-x86_64.egg', '/usr/lib/python3/dist-packages', '/usr/local/lib/python3.5/dist-packages/IPython/extensions', '/home/lbignone/.ipython']\n",
      "sys.path AFTER = ['', '/home/lbignone/Development/hog', '/home/lbignone/Development/PTS/git', '/home/lbignone/Development/hog', '/home/lbignone/Development/pyro2', '/home/lbignone/Development/hog/notebooks', '/usr/lib/python35.zip', '/usr/lib/python3.5', '/usr/lib/python3.5/plat-x86_64-linux-gnu', '/usr/lib/python3.5/lib-dynload', '/home/lbignone/.local/lib/python3.5/site-packages', '/usr/local/lib/python3.5/dist-packages', '/usr/local/lib/python3.5/dist-packages/scikit_image-0.14.0-py3.5-linux-x86_64.egg', '/usr/local/lib/python3.5/dist-packages/dask-0.18.1-py3.5.egg', '/usr/local/lib/python3.5/dist-packages/toolz-0.9.0-py3.5.egg', '/usr/local/lib/python3.5/dist-packages/statmorph-0.3.1-py3.5.egg', '/usr/local/lib/python3.5/dist-packages/greenlet-0.4.14-py3.5-linux-x86_64.egg', '/usr/local/lib/python3.5/dist-packages/gevent-1.3.6-py3.5-linux-x86_64.egg', '/usr/lib/python3/dist-packages', '/usr/local/lib/python3.5/dist-packages/IPython/extensions', '/home/lbignone/.ipython']\n"
     ]
    }
   ],
   "source": [
    "run ipython_config.py"
   ]
  },
  {
   "cell_type": "code",
   "execution_count": 3,
   "metadata": {
    "ExecuteTime": {
     "end_time": "2019-03-01T11:12:21.678533Z",
     "start_time": "2019-03-01T11:12:21.671159Z"
    }
   },
   "outputs": [
    {
     "name": "stdout",
     "output_type": "stream",
     "text": [
      "/home/lbignone/Development/hog\n"
     ]
    }
   ],
   "source": [
    "cd .."
   ]
  },
  {
   "cell_type": "code",
   "execution_count": 4,
   "metadata": {
    "ExecuteTime": {
     "end_time": "2019-03-01T11:12:22.580997Z",
     "start_time": "2019-03-01T11:12:22.572676Z"
    }
   },
   "outputs": [
    {
     "ename": "ImportError",
     "evalue": "No module named 'gadget.models'",
     "output_type": "error",
     "traceback": [
      "\u001b[0;31m---------------------------------------------------------------------------\u001b[0m",
      "\u001b[0;31mImportError\u001b[0m                               Traceback (most recent call last)",
      "\u001b[0;32m<ipython-input-4-42b53f0d8161>\u001b[0m in \u001b[0;36m<module>\u001b[0;34m()\u001b[0m\n\u001b[0;32m----> 1\u001b[0;31m \u001b[0;32mfrom\u001b[0m \u001b[0mmusic\u001b[0m\u001b[0;34m.\u001b[0m\u001b[0mmodels\u001b[0m \u001b[0;32mimport\u001b[0m \u001b[0mMusicGadgetIc\u001b[0m\u001b[0;34m,\u001b[0m \u001b[0mMusicEllipsoidRegion\u001b[0m\u001b[0;34m\u001b[0m\u001b[0m\n\u001b[0m\u001b[1;32m      2\u001b[0m \u001b[0;32mfrom\u001b[0m \u001b[0mrockstar\u001b[0m\u001b[0;34m.\u001b[0m\u001b[0mmodels\u001b[0m \u001b[0;32mimport\u001b[0m \u001b[0mRockstarCatalogue\u001b[0m\u001b[0;34m\u001b[0m\u001b[0m\n\u001b[1;32m      3\u001b[0m \u001b[0;32mfrom\u001b[0m \u001b[0mcore\u001b[0m\u001b[0;34m.\u001b[0m\u001b[0mmodels\u001b[0m \u001b[0;32mimport\u001b[0m \u001b[0mEllipsoidRegion\u001b[0m\u001b[0;34m,\u001b[0m \u001b[0mCategory\u001b[0m\u001b[0;34m\u001b[0m\u001b[0m\n",
      "\u001b[0;32m~/Development/hog/music/models.py\u001b[0m in \u001b[0;36m<module>\u001b[0;34m()\u001b[0m\n\u001b[1;32m      1\u001b[0m \u001b[0;32mfrom\u001b[0m \u001b[0mdjango\u001b[0m\u001b[0;34m.\u001b[0m\u001b[0mdb\u001b[0m \u001b[0;32mimport\u001b[0m \u001b[0mmodels\u001b[0m\u001b[0;34m\u001b[0m\u001b[0m\n\u001b[1;32m      2\u001b[0m \u001b[0;34m\u001b[0m\u001b[0m\n\u001b[0;32m----> 3\u001b[0;31m \u001b[0;32mfrom\u001b[0m \u001b[0mgadget\u001b[0m\u001b[0;34m.\u001b[0m\u001b[0mmodels\u001b[0m \u001b[0;32mimport\u001b[0m \u001b[0mGadgetIc\u001b[0m\u001b[0;34m\u001b[0m\u001b[0m\n\u001b[0m\u001b[1;32m      4\u001b[0m \u001b[0;32mfrom\u001b[0m \u001b[0mcore\u001b[0m\u001b[0;34m.\u001b[0m\u001b[0mmodels\u001b[0m \u001b[0;32mimport\u001b[0m \u001b[0mIc\u001b[0m\u001b[0;34m,\u001b[0m \u001b[0mBoxRegion\u001b[0m\u001b[0;34m,\u001b[0m \u001b[0mEllipsoidRegion\u001b[0m\u001b[0;34m\u001b[0m\u001b[0m\n\u001b[1;32m      5\u001b[0m \u001b[0;32mfrom\u001b[0m \u001b[0mpolymorphic\u001b[0m\u001b[0;34m.\u001b[0m\u001b[0mmodels\u001b[0m \u001b[0;32mimport\u001b[0m \u001b[0mPolymorphicModel\u001b[0m\u001b[0;34m\u001b[0m\u001b[0m\n",
      "\u001b[0;31mImportError\u001b[0m: No module named 'gadget.models'"
     ]
    }
   ],
   "source": [
    "from music.models import MusicGadgetIc, MusicEllipsoidRegion\n",
    "from rockstar.models import RockstarCatalogue\n",
    "from core.models import EllipsoidRegion, Category"
   ]
  },
  {
   "cell_type": "code",
   "execution_count": 3,
   "metadata": {
    "ExecuteTime": {
     "end_time": "2018-04-23T14:28:29.940250Z",
     "start_time": "2018-04-23T14:28:29.938232Z"
    }
   },
   "outputs": [],
   "source": [
    "from core.utils import create_ellipsoid_region"
   ]
  },
  {
   "cell_type": "code",
   "execution_count": 4,
   "metadata": {
    "ExecuteTime": {
     "end_time": "2018-04-23T14:28:30.538409Z",
     "start_time": "2018-04-23T14:28:30.513175Z"
    }
   },
   "outputs": [],
   "source": [
    "from music.utils import create_ic_from_existing"
   ]
  },
  {
   "cell_type": "code",
   "execution_count": 5,
   "metadata": {
    "ExecuteTime": {
     "end_time": "2018-04-23T14:28:31.926246Z",
     "start_time": "2018-04-23T14:28:31.296526Z"
    }
   },
   "outputs": [],
   "source": [
    "# df_selected = pd.read_hdf('selected.hdf5', key='2017-07-20 19:24:04.184707')\n",
    "# df_selected = pd.read_hdf('../media/selected.hdf5', key='2017-07-24 20:16:20.495943')\n",
    "df_selected = pd.read_hdf('../media/selected.hdf5', key='selection3')"
   ]
  },
  {
   "cell_type": "code",
   "execution_count": 6,
   "metadata": {
    "ExecuteTime": {
     "end_time": "2018-04-23T14:28:32.664750Z",
     "start_time": "2018-04-23T14:28:32.602521Z"
    }
   },
   "outputs": [
    {
     "data": {
      "text/html": [
       "<div>\n",
       "<style scoped>\n",
       "    .dataframe tbody tr th:only-of-type {\n",
       "        vertical-align: middle;\n",
       "    }\n",
       "\n",
       "    .dataframe tbody tr th {\n",
       "        vertical-align: top;\n",
       "    }\n",
       "\n",
       "    .dataframe thead th {\n",
       "        text-align: right;\n",
       "    }\n",
       "</style>\n",
       "<table border=\"1\" class=\"dataframe\">\n",
       "  <thead>\n",
       "    <tr style=\"text-align: right;\">\n",
       "      <th></th>\n",
       "      <th>count_n</th>\n",
       "      <th>dnf</th>\n",
       "      <th>dnf_bin</th>\n",
       "      <th>hid</th>\n",
       "      <th>mass_bin</th>\n",
       "      <th>mvir</th>\n",
       "      <th>nn_bin</th>\n",
       "      <th>np</th>\n",
       "      <th>rvir</th>\n",
       "      <th>x</th>\n",
       "      <th>y</th>\n",
       "      <th>z</th>\n",
       "    </tr>\n",
       "    <tr>\n",
       "      <th>hid</th>\n",
       "      <th></th>\n",
       "      <th></th>\n",
       "      <th></th>\n",
       "      <th></th>\n",
       "      <th></th>\n",
       "      <th></th>\n",
       "      <th></th>\n",
       "      <th></th>\n",
       "      <th></th>\n",
       "      <th></th>\n",
       "      <th></th>\n",
       "      <th></th>\n",
       "    </tr>\n",
       "  </thead>\n",
       "  <tbody>\n",
       "    <tr>\n",
       "      <th>33296</th>\n",
       "      <td>35.0</td>\n",
       "      <td>9.191305</td>\n",
       "      <td>2.0</td>\n",
       "      <td>33296.0</td>\n",
       "      <td>1.0</td>\n",
       "      <td>1.339000e+11</td>\n",
       "      <td>2.0</td>\n",
       "      <td>NaN</td>\n",
       "      <td>103.629</td>\n",
       "      <td>15.19173</td>\n",
       "      <td>22.11955</td>\n",
       "      <td>47.41179</td>\n",
       "    </tr>\n",
       "    <tr>\n",
       "      <th>95915</th>\n",
       "      <td>12.0</td>\n",
       "      <td>13.153042</td>\n",
       "      <td>3.0</td>\n",
       "      <td>95915.0</td>\n",
       "      <td>1.0</td>\n",
       "      <td>1.970000e+11</td>\n",
       "      <td>1.0</td>\n",
       "      <td>NaN</td>\n",
       "      <td>117.862</td>\n",
       "      <td>8.95348</td>\n",
       "      <td>46.30461</td>\n",
       "      <td>31.73776</td>\n",
       "    </tr>\n",
       "    <tr>\n",
       "      <th>116774</th>\n",
       "      <td>15.0</td>\n",
       "      <td>28.275509</td>\n",
       "      <td>4.0</td>\n",
       "      <td>116774.0</td>\n",
       "      <td>1.0</td>\n",
       "      <td>1.086000e+11</td>\n",
       "      <td>1.0</td>\n",
       "      <td>NaN</td>\n",
       "      <td>96.651</td>\n",
       "      <td>24.64649</td>\n",
       "      <td>12.45386</td>\n",
       "      <td>4.11703</td>\n",
       "    </tr>\n",
       "    <tr>\n",
       "      <th>241738</th>\n",
       "      <td>9.0</td>\n",
       "      <td>44.698071</td>\n",
       "      <td>5.0</td>\n",
       "      <td>241738.0</td>\n",
       "      <td>1.0</td>\n",
       "      <td>1.315000e+11</td>\n",
       "      <td>1.0</td>\n",
       "      <td>NaN</td>\n",
       "      <td>102.990</td>\n",
       "      <td>47.14500</td>\n",
       "      <td>40.70770</td>\n",
       "      <td>45.55846</td>\n",
       "    </tr>\n",
       "    <tr>\n",
       "      <th>33306</th>\n",
       "      <td>30.0</td>\n",
       "      <td>11.565937</td>\n",
       "      <td>2.0</td>\n",
       "      <td>33306.0</td>\n",
       "      <td>2.0</td>\n",
       "      <td>2.760000e+11</td>\n",
       "      <td>2.0</td>\n",
       "      <td>NaN</td>\n",
       "      <td>131.884</td>\n",
       "      <td>10.26344</td>\n",
       "      <td>2.99136</td>\n",
       "      <td>42.59729</td>\n",
       "    </tr>\n",
       "    <tr>\n",
       "      <th>206641</th>\n",
       "      <td>19.0</td>\n",
       "      <td>12.365766</td>\n",
       "      <td>3.0</td>\n",
       "      <td>206641.0</td>\n",
       "      <td>2.0</td>\n",
       "      <td>2.194000e+11</td>\n",
       "      <td>1.0</td>\n",
       "      <td>NaN</td>\n",
       "      <td>122.169</td>\n",
       "      <td>44.76641</td>\n",
       "      <td>39.79041</td>\n",
       "      <td>14.08442</td>\n",
       "    </tr>\n",
       "    <tr>\n",
       "      <th>229533</th>\n",
       "      <td>11.0</td>\n",
       "      <td>22.025140</td>\n",
       "      <td>4.0</td>\n",
       "      <td>229533.0</td>\n",
       "      <td>2.0</td>\n",
       "      <td>2.757000e+11</td>\n",
       "      <td>1.0</td>\n",
       "      <td>NaN</td>\n",
       "      <td>131.832</td>\n",
       "      <td>31.62716</td>\n",
       "      <td>42.47333</td>\n",
       "      <td>36.76363</td>\n",
       "    </tr>\n",
       "    <tr>\n",
       "      <th>124429</th>\n",
       "      <td>54.0</td>\n",
       "      <td>57.465814</td>\n",
       "      <td>5.0</td>\n",
       "      <td>124429.0</td>\n",
       "      <td>2.0</td>\n",
       "      <td>3.471000e+11</td>\n",
       "      <td>3.0</td>\n",
       "      <td>NaN</td>\n",
       "      <td>142.349</td>\n",
       "      <td>46.15647</td>\n",
       "      <td>14.86934</td>\n",
       "      <td>17.27646</td>\n",
       "    </tr>\n",
       "    <tr>\n",
       "      <th>32879</th>\n",
       "      <td>34.0</td>\n",
       "      <td>6.711499</td>\n",
       "      <td>1.0</td>\n",
       "      <td>32879.0</td>\n",
       "      <td>3.0</td>\n",
       "      <td>6.806000e+11</td>\n",
       "      <td>2.0</td>\n",
       "      <td>NaN</td>\n",
       "      <td>178.168</td>\n",
       "      <td>1.89003</td>\n",
       "      <td>1.41235</td>\n",
       "      <td>41.26353</td>\n",
       "    </tr>\n",
       "    <tr>\n",
       "      <th>70495</th>\n",
       "      <td>42.0</td>\n",
       "      <td>9.285117</td>\n",
       "      <td>2.0</td>\n",
       "      <td>70495.0</td>\n",
       "      <td>3.0</td>\n",
       "      <td>6.004000e+11</td>\n",
       "      <td>2.0</td>\n",
       "      <td>NaN</td>\n",
       "      <td>170.878</td>\n",
       "      <td>0.73130</td>\n",
       "      <td>32.37007</td>\n",
       "      <td>36.46758</td>\n",
       "    </tr>\n",
       "    <tr>\n",
       "      <th>147062</th>\n",
       "      <td>40.0</td>\n",
       "      <td>20.475031</td>\n",
       "      <td>4.0</td>\n",
       "      <td>147062.0</td>\n",
       "      <td>3.0</td>\n",
       "      <td>9.168000e+11</td>\n",
       "      <td>2.0</td>\n",
       "      <td>NaN</td>\n",
       "      <td>196.767</td>\n",
       "      <td>32.61589</td>\n",
       "      <td>7.41276</td>\n",
       "      <td>46.25658</td>\n",
       "    </tr>\n",
       "    <tr>\n",
       "      <th>136254</th>\n",
       "      <td>26.0</td>\n",
       "      <td>43.093971</td>\n",
       "      <td>5.0</td>\n",
       "      <td>136254.0</td>\n",
       "      <td>3.0</td>\n",
       "      <td>6.725000e+11</td>\n",
       "      <td>2.0</td>\n",
       "      <td>NaN</td>\n",
       "      <td>177.456</td>\n",
       "      <td>42.29634</td>\n",
       "      <td>9.27925</td>\n",
       "      <td>33.19727</td>\n",
       "    </tr>\n",
       "    <tr>\n",
       "      <th>136001</th>\n",
       "      <td>51.0</td>\n",
       "      <td>6.285262</td>\n",
       "      <td>1.0</td>\n",
       "      <td>136001.0</td>\n",
       "      <td>4.0</td>\n",
       "      <td>1.046000e+12</td>\n",
       "      <td>3.0</td>\n",
       "      <td>NaN</td>\n",
       "      <td>205.599</td>\n",
       "      <td>28.64865</td>\n",
       "      <td>17.70496</td>\n",
       "      <td>23.64541</td>\n",
       "    </tr>\n",
       "    <tr>\n",
       "      <th>206312</th>\n",
       "      <td>38.0</td>\n",
       "      <td>9.624528</td>\n",
       "      <td>2.0</td>\n",
       "      <td>206312.0</td>\n",
       "      <td>4.0</td>\n",
       "      <td>1.083000e+12</td>\n",
       "      <td>2.0</td>\n",
       "      <td>NaN</td>\n",
       "      <td>207.991</td>\n",
       "      <td>42.55681</td>\n",
       "      <td>39.39494</td>\n",
       "      <td>2.92773</td>\n",
       "    </tr>\n",
       "    <tr>\n",
       "      <th>79392</th>\n",
       "      <td>42.0</td>\n",
       "      <td>14.885077</td>\n",
       "      <td>3.0</td>\n",
       "      <td>79392.0</td>\n",
       "      <td>4.0</td>\n",
       "      <td>1.086000e+12</td>\n",
       "      <td>2.0</td>\n",
       "      <td>NaN</td>\n",
       "      <td>208.227</td>\n",
       "      <td>4.27934</td>\n",
       "      <td>48.84792</td>\n",
       "      <td>3.93380</td>\n",
       "    </tr>\n",
       "    <tr>\n",
       "      <th>193602</th>\n",
       "      <td>47.0</td>\n",
       "      <td>21.004236</td>\n",
       "      <td>4.0</td>\n",
       "      <td>193602.0</td>\n",
       "      <td>4.0</td>\n",
       "      <td>1.013000e+12</td>\n",
       "      <td>2.0</td>\n",
       "      <td>NaN</td>\n",
       "      <td>203.393</td>\n",
       "      <td>30.68392</td>\n",
       "      <td>35.11199</td>\n",
       "      <td>39.08078</td>\n",
       "    </tr>\n",
       "    <tr>\n",
       "      <th>1330</th>\n",
       "      <td>23.0</td>\n",
       "      <td>36.327451</td>\n",
       "      <td>5.0</td>\n",
       "      <td>1330.0</td>\n",
       "      <td>4.0</td>\n",
       "      <td>1.012000e+12</td>\n",
       "      <td>1.0</td>\n",
       "      <td>NaN</td>\n",
       "      <td>203.332</td>\n",
       "      <td>0.76788</td>\n",
       "      <td>4.32026</td>\n",
       "      <td>0.06824</td>\n",
       "    </tr>\n",
       "    <tr>\n",
       "      <th>146616</th>\n",
       "      <td>79.0</td>\n",
       "      <td>5.738497</td>\n",
       "      <td>1.0</td>\n",
       "      <td>146616.0</td>\n",
       "      <td>5.0</td>\n",
       "      <td>3.470000e+12</td>\n",
       "      <td>4.0</td>\n",
       "      <td>NaN</td>\n",
       "      <td>306.646</td>\n",
       "      <td>44.75562</td>\n",
       "      <td>13.16332</td>\n",
       "      <td>46.09890</td>\n",
       "    </tr>\n",
       "    <tr>\n",
       "      <th>123930</th>\n",
       "      <td>57.0</td>\n",
       "      <td>10.037510</td>\n",
       "      <td>2.0</td>\n",
       "      <td>123930.0</td>\n",
       "      <td>5.0</td>\n",
       "      <td>3.941000e+12</td>\n",
       "      <td>3.0</td>\n",
       "      <td>NaN</td>\n",
       "      <td>319.943</td>\n",
       "      <td>23.56157</td>\n",
       "      <td>6.48661</td>\n",
       "      <td>21.87222</td>\n",
       "    </tr>\n",
       "    <tr>\n",
       "      <th>135915</th>\n",
       "      <td>63.0</td>\n",
       "      <td>20.494677</td>\n",
       "      <td>4.0</td>\n",
       "      <td>135915.0</td>\n",
       "      <td>5.0</td>\n",
       "      <td>2.435000e+12</td>\n",
       "      <td>3.0</td>\n",
       "      <td>NaN</td>\n",
       "      <td>272.482</td>\n",
       "      <td>45.70159</td>\n",
       "      <td>0.75919</td>\n",
       "      <td>23.11755</td>\n",
       "    </tr>\n",
       "    <tr>\n",
       "      <th>181619</th>\n",
       "      <td>45.0</td>\n",
       "      <td>35.297392</td>\n",
       "      <td>5.0</td>\n",
       "      <td>181619.0</td>\n",
       "      <td>5.0</td>\n",
       "      <td>2.224000e+12</td>\n",
       "      <td>2.0</td>\n",
       "      <td>NaN</td>\n",
       "      <td>264.378</td>\n",
       "      <td>20.55832</td>\n",
       "      <td>20.97311</td>\n",
       "      <td>33.76610</td>\n",
       "    </tr>\n",
       "    <tr>\n",
       "      <th>146457</th>\n",
       "      <td>118.0</td>\n",
       "      <td>12.961425</td>\n",
       "      <td>3.0</td>\n",
       "      <td>146457.0</td>\n",
       "      <td>6.0</td>\n",
       "      <td>4.977000e+12</td>\n",
       "      <td>5.0</td>\n",
       "      <td>NaN</td>\n",
       "      <td>345.827</td>\n",
       "      <td>40.70279</td>\n",
       "      <td>12.02742</td>\n",
       "      <td>48.07378</td>\n",
       "    </tr>\n",
       "    <tr>\n",
       "      <th>21720</th>\n",
       "      <td>70.0</td>\n",
       "      <td>21.487323</td>\n",
       "      <td>4.0</td>\n",
       "      <td>21720.0</td>\n",
       "      <td>6.0</td>\n",
       "      <td>6.339000e+12</td>\n",
       "      <td>3.0</td>\n",
       "      <td>NaN</td>\n",
       "      <td>374.865</td>\n",
       "      <td>12.77386</td>\n",
       "      <td>8.52803</td>\n",
       "      <td>32.86123</td>\n",
       "    </tr>\n",
       "    <tr>\n",
       "      <th>147804</th>\n",
       "      <td>23.0</td>\n",
       "      <td>6.502208</td>\n",
       "      <td>1.0</td>\n",
       "      <td>147804.0</td>\n",
       "      <td>1.0</td>\n",
       "      <td>1.072000e+11</td>\n",
       "      <td>1.0</td>\n",
       "      <td>1287.0</td>\n",
       "      <td>96.235</td>\n",
       "      <td>47.32173</td>\n",
       "      <td>12.74835</td>\n",
       "      <td>47.22086</td>\n",
       "    </tr>\n",
       "    <tr>\n",
       "      <th>124717</th>\n",
       "      <td>39.0</td>\n",
       "      <td>5.745947</td>\n",
       "      <td>1.0</td>\n",
       "      <td>124717.0</td>\n",
       "      <td>2.0</td>\n",
       "      <td>3.529000e+11</td>\n",
       "      <td>2.0</td>\n",
       "      <td>4700.0</td>\n",
       "      <td>143.141</td>\n",
       "      <td>42.78787</td>\n",
       "      <td>1.22517</td>\n",
       "      <td>18.37152</td>\n",
       "    </tr>\n",
       "    <tr>\n",
       "      <th>51769</th>\n",
       "      <td>27.0</td>\n",
       "      <td>11.875865</td>\n",
       "      <td>3.0</td>\n",
       "      <td>51769.0</td>\n",
       "      <td>3.0</td>\n",
       "      <td>6.017000e+11</td>\n",
       "      <td>2.0</td>\n",
       "      <td>7699.0</td>\n",
       "      <td>170.995</td>\n",
       "      <td>11.80620</td>\n",
       "      <td>31.80078</td>\n",
       "      <td>26.12099</td>\n",
       "    </tr>\n",
       "    <tr>\n",
       "      <th>157850</th>\n",
       "      <td>82.0</td>\n",
       "      <td>5.653106</td>\n",
       "      <td>1.0</td>\n",
       "      <td>157850.0</td>\n",
       "      <td>6.0</td>\n",
       "      <td>5.080000e+12</td>\n",
       "      <td>4.0</td>\n",
       "      <td>44818.0</td>\n",
       "      <td>348.185</td>\n",
       "      <td>39.63033</td>\n",
       "      <td>36.87334</td>\n",
       "      <td>9.74910</td>\n",
       "    </tr>\n",
       "    <tr>\n",
       "      <th>240613</th>\n",
       "      <td>168.0</td>\n",
       "      <td>8.774719</td>\n",
       "      <td>2.0</td>\n",
       "      <td>240613.0</td>\n",
       "      <td>6.0</td>\n",
       "      <td>6.771000e+12</td>\n",
       "      <td>5.0</td>\n",
       "      <td>78882.0</td>\n",
       "      <td>383.191</td>\n",
       "      <td>32.67094</td>\n",
       "      <td>41.52655</td>\n",
       "      <td>46.71777</td>\n",
       "    </tr>\n",
       "    <tr>\n",
       "      <th>193262</th>\n",
       "      <td>24.0</td>\n",
       "      <td>15.460119</td>\n",
       "      <td>3.0</td>\n",
       "      <td>193262.0</td>\n",
       "      <td>5.0</td>\n",
       "      <td>2.478000e+12</td>\n",
       "      <td>1.0</td>\n",
       "      <td>28200.0</td>\n",
       "      <td>274.083</td>\n",
       "      <td>46.70442</td>\n",
       "      <td>26.64880</td>\n",
       "      <td>46.60152</td>\n",
       "    </tr>\n",
       "  </tbody>\n",
       "</table>\n",
       "</div>"
      ],
      "text/plain": [
       "        count_n        dnf  dnf_bin       hid  mass_bin          mvir  nn_bin  \\\n",
       "hid                                                                             \n",
       "33296      35.0   9.191305      2.0   33296.0       1.0  1.339000e+11     2.0   \n",
       "95915      12.0  13.153042      3.0   95915.0       1.0  1.970000e+11     1.0   \n",
       "116774     15.0  28.275509      4.0  116774.0       1.0  1.086000e+11     1.0   \n",
       "241738      9.0  44.698071      5.0  241738.0       1.0  1.315000e+11     1.0   \n",
       "33306      30.0  11.565937      2.0   33306.0       2.0  2.760000e+11     2.0   \n",
       "206641     19.0  12.365766      3.0  206641.0       2.0  2.194000e+11     1.0   \n",
       "229533     11.0  22.025140      4.0  229533.0       2.0  2.757000e+11     1.0   \n",
       "124429     54.0  57.465814      5.0  124429.0       2.0  3.471000e+11     3.0   \n",
       "32879      34.0   6.711499      1.0   32879.0       3.0  6.806000e+11     2.0   \n",
       "70495      42.0   9.285117      2.0   70495.0       3.0  6.004000e+11     2.0   \n",
       "147062     40.0  20.475031      4.0  147062.0       3.0  9.168000e+11     2.0   \n",
       "136254     26.0  43.093971      5.0  136254.0       3.0  6.725000e+11     2.0   \n",
       "136001     51.0   6.285262      1.0  136001.0       4.0  1.046000e+12     3.0   \n",
       "206312     38.0   9.624528      2.0  206312.0       4.0  1.083000e+12     2.0   \n",
       "79392      42.0  14.885077      3.0   79392.0       4.0  1.086000e+12     2.0   \n",
       "193602     47.0  21.004236      4.0  193602.0       4.0  1.013000e+12     2.0   \n",
       "1330       23.0  36.327451      5.0    1330.0       4.0  1.012000e+12     1.0   \n",
       "146616     79.0   5.738497      1.0  146616.0       5.0  3.470000e+12     4.0   \n",
       "123930     57.0  10.037510      2.0  123930.0       5.0  3.941000e+12     3.0   \n",
       "135915     63.0  20.494677      4.0  135915.0       5.0  2.435000e+12     3.0   \n",
       "181619     45.0  35.297392      5.0  181619.0       5.0  2.224000e+12     2.0   \n",
       "146457    118.0  12.961425      3.0  146457.0       6.0  4.977000e+12     5.0   \n",
       "21720      70.0  21.487323      4.0   21720.0       6.0  6.339000e+12     3.0   \n",
       "147804     23.0   6.502208      1.0  147804.0       1.0  1.072000e+11     1.0   \n",
       "124717     39.0   5.745947      1.0  124717.0       2.0  3.529000e+11     2.0   \n",
       "51769      27.0  11.875865      3.0   51769.0       3.0  6.017000e+11     2.0   \n",
       "157850     82.0   5.653106      1.0  157850.0       6.0  5.080000e+12     4.0   \n",
       "240613    168.0   8.774719      2.0  240613.0       6.0  6.771000e+12     5.0   \n",
       "193262     24.0  15.460119      3.0  193262.0       5.0  2.478000e+12     1.0   \n",
       "\n",
       "             np     rvir         x         y         z  \n",
       "hid                                                     \n",
       "33296       NaN  103.629  15.19173  22.11955  47.41179  \n",
       "95915       NaN  117.862   8.95348  46.30461  31.73776  \n",
       "116774      NaN   96.651  24.64649  12.45386   4.11703  \n",
       "241738      NaN  102.990  47.14500  40.70770  45.55846  \n",
       "33306       NaN  131.884  10.26344   2.99136  42.59729  \n",
       "206641      NaN  122.169  44.76641  39.79041  14.08442  \n",
       "229533      NaN  131.832  31.62716  42.47333  36.76363  \n",
       "124429      NaN  142.349  46.15647  14.86934  17.27646  \n",
       "32879       NaN  178.168   1.89003   1.41235  41.26353  \n",
       "70495       NaN  170.878   0.73130  32.37007  36.46758  \n",
       "147062      NaN  196.767  32.61589   7.41276  46.25658  \n",
       "136254      NaN  177.456  42.29634   9.27925  33.19727  \n",
       "136001      NaN  205.599  28.64865  17.70496  23.64541  \n",
       "206312      NaN  207.991  42.55681  39.39494   2.92773  \n",
       "79392       NaN  208.227   4.27934  48.84792   3.93380  \n",
       "193602      NaN  203.393  30.68392  35.11199  39.08078  \n",
       "1330        NaN  203.332   0.76788   4.32026   0.06824  \n",
       "146616      NaN  306.646  44.75562  13.16332  46.09890  \n",
       "123930      NaN  319.943  23.56157   6.48661  21.87222  \n",
       "135915      NaN  272.482  45.70159   0.75919  23.11755  \n",
       "181619      NaN  264.378  20.55832  20.97311  33.76610  \n",
       "146457      NaN  345.827  40.70279  12.02742  48.07378  \n",
       "21720       NaN  374.865  12.77386   8.52803  32.86123  \n",
       "147804   1287.0   96.235  47.32173  12.74835  47.22086  \n",
       "124717   4700.0  143.141  42.78787   1.22517  18.37152  \n",
       "51769    7699.0  170.995  11.80620  31.80078  26.12099  \n",
       "157850  44818.0  348.185  39.63033  36.87334   9.74910  \n",
       "240613  78882.0  383.191  32.67094  41.52655  46.71777  \n",
       "193262  28200.0  274.083  46.70442  26.64880  46.60152  "
      ]
     },
     "execution_count": 6,
     "metadata": {},
     "output_type": "execute_result"
    }
   ],
   "source": [
    "df_selected"
   ]
  },
  {
   "cell_type": "code",
   "execution_count": 7,
   "metadata": {
    "ExecuteTime": {
     "end_time": "2018-04-23T14:28:39.294676Z",
     "start_time": "2018-04-23T14:28:39.252847Z"
    }
   },
   "outputs": [],
   "source": [
    "sim = Simulation.objects.get(name='out512')\n",
    "snap = sim.snapshot_set.get(snap_number=14)\n",
    "cat = snap.catalogue_set.get()\n",
    "halos = cat.structure_set\n",
    "ic = sim.ic"
   ]
  },
  {
   "cell_type": "code",
   "execution_count": 8,
   "metadata": {
    "ExecuteTime": {
     "end_time": "2018-04-23T14:29:38.784726Z",
     "start_time": "2018-04-23T14:29:38.781826Z"
    }
   },
   "outputs": [],
   "source": [
    "# category = Category.objects.get(name='selection 2')\n",
    "\n",
    "cat_name = 'Picasso'\n",
    "\n",
    "category = Category.objects.get(name=cat_name)"
   ]
  },
  {
   "cell_type": "code",
   "execution_count": 9,
   "metadata": {
    "ExecuteTime": {
     "end_time": "2018-04-23T14:29:56.487039Z",
     "start_time": "2018-04-23T14:29:56.483875Z"
    }
   },
   "outputs": [
    {
     "data": {
      "text/plain": [
       "1"
      ]
     },
     "execution_count": 9,
     "metadata": {},
     "output_type": "execute_result"
    }
   ],
   "source": [
    "selected_ids = df_selected.index[:]\n",
    "# selected_ids = [1330, 193602, 79392, 206312, 136001]\n",
    "# selected_ids = [146616, 123930, 21971, 135915, 181619]\n",
    "selected_ids = [147062]\n",
    "len(selected_ids)"
   ]
  },
  {
   "cell_type": "code",
   "execution_count": 10,
   "metadata": {
    "ExecuteTime": {
     "end_time": "2018-02-05T15:27:13.483687Z",
     "start_time": "2018-02-05T15:16:43.608867Z"
    }
   },
   "outputs": [
    {
     "data": {
      "application/vnd.jupyter.widget-view+json": {
       "model_id": "7a581774b21e4089bdd1dddcf85d821b",
       "version_major": 2,
       "version_minor": 0
      },
      "text/html": [
       "<p>Failed to display Jupyter Widget of type <code>HBox</code>.</p>\n",
       "<p>\n",
       "  If you're reading this message in Jupyter Notebook or JupyterLab, it may mean\n",
       "  that the widgets JavaScript is still loading. If this message persists, it\n",
       "  likely means that the widgets JavaScript library is either not installed or\n",
       "  not enabled. See the <a href=\"https://ipywidgets.readthedocs.io/en/stable/user_install.html\">Jupyter\n",
       "  Widgets Documentation</a> for setup instructions.\n",
       "</p>\n",
       "<p>\n",
       "  If you're reading this message in another notebook frontend (for example, a static\n",
       "  rendering on GitHub or <a href=\"https://nbviewer.jupyter.org/\">NBViewer</a>),\n",
       "  it may mean that your frontend doesn't currently support widgets.\n",
       "</p>\n"
      ],
      "text/plain": [
       "HBox(children=(IntProgress(value=0, max=5), HTML(value='')))"
      ]
     },
     "metadata": {},
     "output_type": "display_data"
    },
    {
     "name": "stdout",
     "output_type": "stream",
     "text": [
      "\n"
     ]
    }
   ],
   "source": [
    "# create regions\n",
    "\n",
    "# rtb = 10\n",
    "# rtb = 5\n",
    "# rtb = 2\n",
    "# rtb = 4\n",
    "rtb = 4\n",
    "\n",
    "for hid in tqdm_notebook(selected_ids):\n",
    "    structure = halos.get(rockstarhalo__hid=hid)\n",
    "\n",
    "    # create EllipsoidRegion\n",
    "    region = create_ellipsoid_region(structure, rtb=rtb)\n",
    "    region.category.add(category)\n",
    "    region.save()\n",
    "    \n",
    "    # region = regions.get(structure=structure)\n",
    "        \n",
    "    # create MusicEllipsoidRegion\n",
    "    region = MusicEllipsoidRegion(region=region)\n",
    "    region.save()"
   ]
  },
  {
   "cell_type": "code",
   "execution_count": 10,
   "metadata": {
    "ExecuteTime": {
     "end_time": "2018-04-23T14:30:38.679872Z",
     "start_time": "2018-04-23T14:30:38.671406Z"
    }
   },
   "outputs": [],
   "source": [
    "# halo_ids = df_selected.index\n",
    "# halo_ids = halo_ids.drop([33306, 124429])\n",
    "# halo_ids = [1330, 193602, 79392, 206312, 136001]\n",
    "# halo_ids = [146616, 123930, 21971, 135915, 181619]\n",
    "halo_ids = [147062,]\n"
   ]
  },
  {
   "cell_type": "code",
   "execution_count": 13,
   "metadata": {
    "ExecuteTime": {
     "end_time": "2018-02-05T15:29:17.069074Z",
     "start_time": "2018-02-05T15:29:16.013159Z"
    }
   },
   "outputs": [
    {
     "data": {
      "application/vnd.jupyter.widget-view+json": {
       "model_id": "336bbdafc7094b158acf4107337aa7be",
       "version_major": 2,
       "version_minor": 0
      },
      "text/html": [
       "<p>Failed to display Jupyter Widget of type <code>FloatProgress</code>.</p>\n",
       "<p>\n",
       "  If you're reading this message in Jupyter Notebook or JupyterLab, it may mean\n",
       "  that the widgets JavaScript is still loading. If this message persists, it\n",
       "  likely means that the widgets JavaScript library is either not installed or\n",
       "  not enabled. See the <a href=\"https://ipywidgets.readthedocs.io/en/stable/user_install.html\">Jupyter\n",
       "  Widgets Documentation</a> for setup instructions.\n",
       "</p>\n",
       "<p>\n",
       "  If you're reading this message in another notebook frontend (for example, a static\n",
       "  rendering on GitHub or <a href=\"https://nbviewer.jupyter.org/\">NBViewer</a>),\n",
       "  it may mean that your frontend doesn't currently support widgets.\n",
       "</p>\n"
      ],
      "text/plain": [
       "FloatProgress(value=0.0)"
      ]
     },
     "metadata": {},
     "output_type": "display_data"
    },
    {
     "name": "stdout",
     "output_type": "stream",
     "text": [
      "\n"
     ]
    }
   ],
   "source": [
    "# category = Category.objects.get(name='selection 2')\n",
    "# category = Category.objects.get(name='Lim_5Rvir')\n",
    "category = Category.objects.get(name=cat_name)\n",
    "\n",
    "level = 12\n",
    "if level>=12:\n",
    "    spreadcoarse = False\n",
    "    post_action = 'python $HOME/wmmw/initial_conditions/spread.py *.dat'\n",
    "else:\n",
    "    spreadcoarse = True\n",
    "\n",
    "with ProgressBar(len(halo_ids), ipython_widget=True) as pbar:\n",
    "    for hid in halo_ids:\n",
    "        \n",
    "        # category = root_cat.children.get(name=str(hid))\n",
    "        # category = category.children.get(name='DM')\n",
    "        \n",
    "        new_ic = create_ic_from_existing(ic)\n",
    "        \n",
    "        structure = halos.get(rockstarhalo__hid=hid)\n",
    "        region = Region.objects.get(structure=structure, category=category)\n",
    "        region = MusicEllipsoidRegion.objects.get(region=region)\n",
    "        \n",
    "        new_ic.region = region\n",
    "        # new_ic.levelmin = 8\n",
    "        new_ic.levelmin = 7\n",
    "        new_ic.levelmax = level\n",
    "        \n",
    "        new_ic.padding = 6\n",
    "        new_ic.overlap = 4\n",
    "        \n",
    "        new_ic.gadget_spreadcoarse = spreadcoarse\n",
    "        new_ic.post_action = post_action\n",
    "        new_ic.category.add(category)\n",
    "        new_ic.name = '{hid:d}_DM_L{level:d}'.format(hid=hid, level=level)\n",
    "        new_ic.filename = new_ic.name + '.dat'\n",
    "        \n",
    "        new_ic.save()\n",
    "        \n",
    "        pbar.update()"
   ]
  },
  {
   "cell_type": "code",
   "execution_count": null,
   "metadata": {
    "collapsed": true
   },
   "outputs": [],
   "source": [
    "gr."
   ]
  }
 ],
 "metadata": {
  "kernelspec": {
   "display_name": "Django Shell-Plus",
   "language": "python",
   "name": "django_extensions"
  },
  "language_info": {
   "codemirror_mode": {
    "name": "ipython",
    "version": 3
   },
   "file_extension": ".py",
   "mimetype": "text/x-python",
   "name": "python",
   "nbconvert_exporter": "python",
   "pygments_lexer": "ipython3",
   "version": "3.5.2"
  },
  "toc": {
   "base_numbering": 1,
   "nav_menu": {
    "height": "12px",
    "width": "252px"
   },
   "number_sections": true,
   "sideBar": true,
   "skip_h1_title": false,
   "title_cell": "Table of Contents",
   "title_sidebar": "Contents",
   "toc_cell": false,
   "toc_position": {},
   "toc_section_display": "block",
   "toc_window_display": false
  }
 },
 "nbformat": 4,
 "nbformat_minor": 2
}

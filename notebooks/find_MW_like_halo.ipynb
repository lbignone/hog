{
 "cells": [
  {
   "cell_type": "code",
   "execution_count": 1,
   "metadata": {
    "collapsed": true
   },
   "outputs": [],
   "source": [
    "import pandas as pd"
   ]
  },
  {
   "cell_type": "code",
   "execution_count": 2,
   "metadata": {
    "collapsed": true
   },
   "outputs": [],
   "source": [
    "from rockstar.models import RockstarCatalogue, RockstarHalo"
   ]
  },
  {
   "cell_type": "code",
   "execution_count": 3,
   "metadata": {
    "collapsed": true
   },
   "outputs": [],
   "source": [
    "from core.models import EllipsoidRegion, Category"
   ]
  },
  {
   "cell_type": "code",
   "execution_count": 4,
   "metadata": {},
   "outputs": [],
   "source": [
    "from django_pandas.io import read_frame"
   ]
  },
  {
   "cell_type": "code",
   "execution_count": 5,
   "metadata": {
    "collapsed": true
   },
   "outputs": [],
   "source": [
    "from matplotlib import pyplot as plt\n",
    "%matplotlib inline"
   ]
  },
  {
   "cell_type": "code",
   "execution_count": null,
   "metadata": {
    "collapsed": true
   },
   "outputs": [],
   "source": []
  },
  {
   "cell_type": "code",
   "execution_count": 6,
   "metadata": {
    "collapsed": true
   },
   "outputs": [],
   "source": [
    "cat = RockstarCatalogue.objects.get()"
   ]
  },
  {
   "cell_type": "code",
   "execution_count": 7,
   "metadata": {},
   "outputs": [
    {
     "data": {
      "text/plain": [
       "Int64Index([ 79956,  33296,  95915, 116774, 241738, 241466,  33306, 206641,\n",
       "            229533, 124429,  32879,  70495,  47855, 147062, 136254, 136001,\n",
       "            206312,  79392, 193602,   1330, 146616, 123930,  21971, 135915,\n",
       "            181619, 228167,    641, 146457,  21720],\n",
       "           dtype='int64', name='hid')"
      ]
     },
     "execution_count": 7,
     "metadata": {},
     "output_type": "execute_result"
    }
   ],
   "source": [
    "df_selected = pd.read_hdf('../media/selected.hdf5', key='2017-07-24 20:16:20.495943')\n",
    "selected_ids = df_selected.index\n",
    "selected_ids"
   ]
  },
  {
   "cell_type": "code",
   "execution_count": 8,
   "metadata": {
    "collapsed": true
   },
   "outputs": [],
   "source": [
    "halos = RockstarHalo.objects.filter(hid__in=selected_ids)\n",
    "\n",
    "c = halos[0].catalogue\n",
    "unit_mass = c.rockstarcatalogue.unit_mass"
   ]
  },
  {
   "cell_type": "code",
   "execution_count": 9,
   "metadata": {},
   "outputs": [],
   "source": [
    "df = read_frame(halos)\n",
    "df = df.set_index('hid')"
   ]
  },
  {
   "cell_type": "code",
   "execution_count": 10,
   "metadata": {},
   "outputs": [
    {
     "data": {
      "text/plain": [
       "(array([ 14.,   6.,   0.,   3.,   0.,   2.,   1.,   1.,   0.,   2.]),\n",
       " array([  1.07200000e+11,   7.77080000e+11,   1.44696000e+12,\n",
       "          2.11684000e+12,   2.78672000e+12,   3.45660000e+12,\n",
       "          4.12648000e+12,   4.79636000e+12,   5.46624000e+12,\n",
       "          6.13612000e+12,   6.80600000e+12]),\n",
       " <a list of 10 Patch objects>)"
      ]
     },
     "execution_count": 10,
     "metadata": {},
     "output_type": "execute_result"
    },
    {
     "data": {
      "image/png": "[encoded data removed]",
      "text/plain": [
       "<matplotlib.figure.Figure at 0x7f29a054d6a0>"
      ]
     },
     "metadata": {},
     "output_type": "display_data"
    }
   ],
   "source": [
    "plt.hist(df.mvir * unit_mass)"
   ]
  },
  {
   "cell_type": "code",
   "execution_count": 11,
   "metadata": {},
   "outputs": [
    {
     "data": {
      "text/plain": [
       "<matplotlib.text.Text at 0x7f2998521908>"
      ]
     },
     "execution_count": 11,
     "metadata": {},
     "output_type": "execute_result"
    },
    {
     "data": {
      "image/png": "[encoded data removed]",
      "text/plain": [
       "<matplotlib.figure.Figure at 0x7f29a0039cc0>"
      ]
     },
     "metadata": {},
     "output_type": "display_data"
    }
   ],
   "source": [
    "plt.hist(df_selected.dnf)\n",
    "mean = df_selected.dnf.mean()\n",
    "std = df_selected.dnf.std()\n",
    "plt.axvline(mean)\n",
    "plt.axvline(mean+std)\n",
    "plt.axvline(mean-std)\n",
    "plt.xlabel('dnf')"
   ]
  },
  {
   "cell_type": "code",
   "execution_count": 12,
   "metadata": {},
   "outputs": [
    {
     "data": {
      "text/html": [
       "<div>\n",
       "<style>\n",
       "    .dataframe thead tr:only-child th {\n",
       "        text-align: right;\n",
       "    }\n",
       "\n",
       "    .dataframe thead th {\n",
       "        text-align: left;\n",
       "    }\n",
       "\n",
       "    .dataframe tbody tr th {\n",
       "        vertical-align: top;\n",
       "    }\n",
       "</style>\n",
       "<table border=\"1\" class=\"dataframe\">\n",
       "  <thead>\n",
       "    <tr style=\"text-align: right;\">\n",
       "      <th></th>\n",
       "      <th>mvir</th>\n",
       "      <th>mass_unit</th>\n",
       "    </tr>\n",
       "    <tr>\n",
       "      <th>hid</th>\n",
       "      <th></th>\n",
       "      <th></th>\n",
       "    </tr>\n",
       "  </thead>\n",
       "  <tbody>\n",
       "    <tr>\n",
       "      <th>79956</th>\n",
       "      <td>1.072000e+11</td>\n",
       "      <td>1.597377e+11</td>\n",
       "    </tr>\n",
       "    <tr>\n",
       "      <th>116774</th>\n",
       "      <td>1.086000e+11</td>\n",
       "      <td>1.618239e+11</td>\n",
       "    </tr>\n",
       "    <tr>\n",
       "      <th>241738</th>\n",
       "      <td>1.315000e+11</td>\n",
       "      <td>1.959470e+11</td>\n",
       "    </tr>\n",
       "    <tr>\n",
       "      <th>33296</th>\n",
       "      <td>1.339000e+11</td>\n",
       "      <td>1.995232e+11</td>\n",
       "    </tr>\n",
       "    <tr>\n",
       "      <th>95915</th>\n",
       "      <td>1.970000e+11</td>\n",
       "      <td>2.935479e+11</td>\n",
       "    </tr>\n",
       "    <tr>\n",
       "      <th>206641</th>\n",
       "      <td>2.194000e+11</td>\n",
       "      <td>3.269259e+11</td>\n",
       "    </tr>\n",
       "    <tr>\n",
       "      <th>229533</th>\n",
       "      <td>2.757000e+11</td>\n",
       "      <td>4.108181e+11</td>\n",
       "    </tr>\n",
       "    <tr>\n",
       "      <th>33306</th>\n",
       "      <td>2.760000e+11</td>\n",
       "      <td>4.112651e+11</td>\n",
       "    </tr>\n",
       "    <tr>\n",
       "      <th>124429</th>\n",
       "      <td>3.471000e+11</td>\n",
       "      <td>5.172105e+11</td>\n",
       "    </tr>\n",
       "    <tr>\n",
       "      <th>241466</th>\n",
       "      <td>3.524000e+11</td>\n",
       "      <td>5.251080e+11</td>\n",
       "    </tr>\n",
       "    <tr>\n",
       "      <th>47855</th>\n",
       "      <td>6.004000e+11</td>\n",
       "      <td>8.946506e+11</td>\n",
       "    </tr>\n",
       "    <tr>\n",
       "      <th>70495</th>\n",
       "      <td>6.004000e+11</td>\n",
       "      <td>8.946506e+11</td>\n",
       "    </tr>\n",
       "    <tr>\n",
       "      <th>136254</th>\n",
       "      <td>6.725000e+11</td>\n",
       "      <td>1.002086e+12</td>\n",
       "    </tr>\n",
       "    <tr>\n",
       "      <th>32879</th>\n",
       "      <td>6.806000e+11</td>\n",
       "      <td>1.014156e+12</td>\n",
       "    </tr>\n",
       "    <tr>\n",
       "      <th>147062</th>\n",
       "      <td>9.168000e+11</td>\n",
       "      <td>1.366115e+12</td>\n",
       "    </tr>\n",
       "    <tr>\n",
       "      <th>1330</th>\n",
       "      <td>1.012000e+12</td>\n",
       "      <td>1.507972e+12</td>\n",
       "    </tr>\n",
       "    <tr>\n",
       "      <th>193602</th>\n",
       "      <td>1.013000e+12</td>\n",
       "      <td>1.509462e+12</td>\n",
       "    </tr>\n",
       "    <tr>\n",
       "      <th>136001</th>\n",
       "      <td>1.046000e+12</td>\n",
       "      <td>1.558635e+12</td>\n",
       "    </tr>\n",
       "    <tr>\n",
       "      <th>206312</th>\n",
       "      <td>1.083000e+12</td>\n",
       "      <td>1.613768e+12</td>\n",
       "    </tr>\n",
       "    <tr>\n",
       "      <th>79392</th>\n",
       "      <td>1.086000e+12</td>\n",
       "      <td>1.618239e+12</td>\n",
       "    </tr>\n",
       "    <tr>\n",
       "      <th>181619</th>\n",
       "      <td>2.224000e+12</td>\n",
       "      <td>3.313962e+12</td>\n",
       "    </tr>\n",
       "    <tr>\n",
       "      <th>21971</th>\n",
       "      <td>2.376000e+12</td>\n",
       "      <td>3.540456e+12</td>\n",
       "    </tr>\n",
       "    <tr>\n",
       "      <th>135915</th>\n",
       "      <td>2.435000e+12</td>\n",
       "      <td>3.628371e+12</td>\n",
       "    </tr>\n",
       "    <tr>\n",
       "      <th>146616</th>\n",
       "      <td>3.470000e+12</td>\n",
       "      <td>5.170615e+12</td>\n",
       "    </tr>\n",
       "    <tr>\n",
       "      <th>123930</th>\n",
       "      <td>3.941000e+12</td>\n",
       "      <td>5.872448e+12</td>\n",
       "    </tr>\n",
       "    <tr>\n",
       "      <th>228167</th>\n",
       "      <td>4.700000e+12</td>\n",
       "      <td>7.003427e+12</td>\n",
       "    </tr>\n",
       "    <tr>\n",
       "      <th>146457</th>\n",
       "      <td>4.977000e+12</td>\n",
       "      <td>7.416182e+12</td>\n",
       "    </tr>\n",
       "    <tr>\n",
       "      <th>21720</th>\n",
       "      <td>6.339000e+12</td>\n",
       "      <td>9.445686e+12</td>\n",
       "    </tr>\n",
       "    <tr>\n",
       "      <th>641</th>\n",
       "      <td>6.806000e+12</td>\n",
       "      <td>1.014156e+13</td>\n",
       "    </tr>\n",
       "  </tbody>\n",
       "</table>\n",
       "</div>"
      ],
      "text/plain": [
       "                mvir     mass_unit\n",
       "hid                               \n",
       "79956   1.072000e+11  1.597377e+11\n",
       "116774  1.086000e+11  1.618239e+11\n",
       "241738  1.315000e+11  1.959470e+11\n",
       "33296   1.339000e+11  1.995232e+11\n",
       "95915   1.970000e+11  2.935479e+11\n",
       "206641  2.194000e+11  3.269259e+11\n",
       "229533  2.757000e+11  4.108181e+11\n",
       "33306   2.760000e+11  4.112651e+11\n",
       "124429  3.471000e+11  5.172105e+11\n",
       "241466  3.524000e+11  5.251080e+11\n",
       "47855   6.004000e+11  8.946506e+11\n",
       "70495   6.004000e+11  8.946506e+11\n",
       "136254  6.725000e+11  1.002086e+12\n",
       "32879   6.806000e+11  1.014156e+12\n",
       "147062  9.168000e+11  1.366115e+12\n",
       "1330    1.012000e+12  1.507972e+12\n",
       "193602  1.013000e+12  1.509462e+12\n",
       "136001  1.046000e+12  1.558635e+12\n",
       "206312  1.083000e+12  1.613768e+12\n",
       "79392   1.086000e+12  1.618239e+12\n",
       "181619  2.224000e+12  3.313962e+12\n",
       "21971   2.376000e+12  3.540456e+12\n",
       "135915  2.435000e+12  3.628371e+12\n",
       "146616  3.470000e+12  5.170615e+12\n",
       "123930  3.941000e+12  5.872448e+12\n",
       "228167  4.700000e+12  7.003427e+12\n",
       "146457  4.977000e+12  7.416182e+12\n",
       "21720   6.339000e+12  9.445686e+12\n",
       "641     6.806000e+12  1.014156e+13"
      ]
     },
     "execution_count": 12,
     "metadata": {},
     "output_type": "execute_result"
    }
   ],
   "source": [
    "mass = df.mvir\n",
    "df['mass_unit'] = mass.values * unit_mass.to('Msun')\n",
    "\n",
    "df = df.sort_values('mvir')\n",
    "\n",
    "df[['mvir', 'mass_unit']]"
   ]
  },
  {
   "cell_type": "code",
   "execution_count": 13,
   "metadata": {
    "collapsed": true
   },
   "outputs": [],
   "source": [
    "from music.models import GadgetIc\n",
    "from music.utils import save_pbs_file\n",
    "category = Category.objects.get(name='selection 2')"
   ]
  },
  {
   "cell_type": "code",
   "execution_count": 14,
   "metadata": {},
   "outputs": [
    {
     "data": {
      "text/plain": [
       "<MusicGadgetIc: 124429_DM_L12>"
      ]
     },
     "execution_count": 14,
     "metadata": {},
     "output_type": "execute_result"
    }
   ],
   "source": [
    "ic = GadgetIc.objects.filter(category=category, musicgadgetic__levelmax=12)\n",
    "ic = ic[0]\n",
    "ic"
   ]
  },
  {
   "cell_type": "code",
   "execution_count": 15,
   "metadata": {},
   "outputs": [],
   "source": [
    "save_pbs_file(ic)"
   ]
  },
  {
   "cell_type": "code",
   "execution_count": 16,
   "metadata": {},
   "outputs": [
    {
     "data": {
      "text/plain": [
       "'405_124429_DM_L12'"
      ]
     },
     "execution_count": 16,
     "metadata": {},
     "output_type": "execute_result"
    }
   ],
   "source": [
    "fname = ic.get_config_filename()\n",
    "name = fname.split('.')[0]\n",
    "name = name.split('/')[-1]\n",
    "name"
   ]
  },
  {
   "cell_type": "code",
   "execution_count": null,
   "metadata": {
    "collapsed": true
   },
   "outputs": [],
   "source": []
  }
 ],
 "metadata": {
  "kernelspec": {
   "display_name": "Django Shell-Plus",
   "language": "python",
   "name": "django_extensions"
  },
  "language_info": {
   "codemirror_mode": {
    "name": "ipython",
    "version": 3
   },
   "file_extension": ".py",
   "mimetype": "text/x-python",
   "name": "python",
   "nbconvert_exporter": "python",
   "pygments_lexer": "ipython3",
   "version": "3.5.2"
  }
 },
 "nbformat": 4,
 "nbformat_minor": 2
}

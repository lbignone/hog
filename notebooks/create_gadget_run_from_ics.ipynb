{
 "cells": [
  {
   "cell_type": "code",
   "execution_count": 1,
   "metadata": {},
   "outputs": [],
   "source": [
    "from music.models import MusicGadgetIc\n",
    "from core.models import Category\n",
    "from music.utils import setup_run\n",
    "from gadget.models import GadgetRun\n",
    "\n",
    "from hog import settings\n",
    "\n",
    "from astropy import units as u\n",
    "\n",
    "\n",
    "from tqdm import tqdm_notebook"
   ]
  },
  {
   "cell_type": "code",
   "execution_count": 2,
   "metadata": {
    "collapsed": true
   },
   "outputs": [],
   "source": [
    "cat = Category.objects.filter(name='selection 2')\n",
    "\n",
    "ics = MusicGadgetIc.objects.filter(category=cat)"
   ]
  },
  {
   "cell_type": "code",
   "execution_count": 3,
   "metadata": {},
   "outputs": [],
   "source": [
    "def get_ic_location(ic, music_media='/data4/lbignone/hog/media'):\n",
    "\n",
    "    root = settings.MEDIA_ROOT\n",
    "\n",
    "    path = ic.get_path()\n",
    "    path_strip = path[len(root):]\n",
    "    ic_filename = music_media + path_strip + str(ic.id) + '_' + ic.filename\n",
    "\n",
    "    return ic_filename"
   ]
  },
  {
   "cell_type": "code",
   "execution_count": 4,
   "metadata": {},
   "outputs": [],
   "source": [
    "def estimate_softening(boxlength, level, factor=1./25):\n",
    "    d = boxlength / (2**level)\n",
    "    return d/25"
   ]
  },
  {
   "cell_type": "code",
   "execution_count": 5,
   "metadata": {
    "collapsed": true
   },
   "outputs": [],
   "source": [
    "def get_maximum_phys_softening(softening, redshift_limit=2.91):\n",
    "    a_lim = 1./(1. + redshift_limit)\n",
    "    return a_lim*softening"
   ]
  },
  {
   "cell_type": "code",
   "execution_count": 6,
   "metadata": {
    "collapsed": true
   },
   "outputs": [],
   "source": [
    "media_root = '/fast_scratch1/lbignone/hog/media'"
   ]
  },
  {
   "cell_type": "code",
   "execution_count": 7,
   "metadata": {},
   "outputs": [],
   "source": [
    "for ic in ics:\n",
    "    gr = GadgetRun()\n",
    "    gr.ic = ic\n",
    "    \n",
    "    gr.save()\n",
    "    \n",
    "    name = ic.name\n",
    "    name_id = str(gr.id) + '_' + ic.name\n",
    "    gr.name = name\n",
    "    gr.category.set(cat)\n",
    "    \n",
    "    # makefile options\n",
    "    gr.UNEQUALSOFTENINGS = True\n",
    "    gr.OUTPUTPOTENTIAL = True\n",
    "    gr.PLACEHIGHRESREGION = 3\n",
    "    gr.ENLARGEREGION = 1.2\n",
    "    \n",
    "    # Filenames and file formats \n",
    "    gr.OutputDir = media_root + '/gadget/run/' + name_id\n",
    "    gr.file_number = 10    \n",
    "    gr.InitCondFile = get_ic_location(ic)\n",
    "    \n",
    "    # Simulation specific parameters\n",
    "    gr.TimeBegin = 1./(1.+ic.zstart)\n",
    "    gr.boxlength = ic.boxlength * u.Mpc.to('kpc')\n",
    "    gr.Omega_m = ic.Omega_m\n",
    "    gr.Omega_l = ic.Omega_L\n",
    "    gr.Omega_b = ic.Omega_b\n",
    "    gr.h = ic.H0 / 100\n",
    "    \n",
    "    # Output of snapshot files \n",
    "    gr.OutputListOn = True\n",
    "    gr.OutputListFilename = '/home/lbignone/wmmw/ExpansionList_128'\n",
    "    gr.TimeBetStatistics = 0.05\n",
    "    gr.NumFilesWrittenInParallel = 10\n",
    "    \n",
    "    levelmax = ic.levelmax\n",
    "    levelmin = ic.levelmin\n",
    "    \n",
    "    softenings = []\n",
    "    for level in range(levelmin, levelmax+1):\n",
    "        softening = estimate_softening(gr.boxlength, level)\n",
    "        softenings.append(softening)\n",
    "           \n",
    "    # High-resolution softenings\n",
    "    gr.SofteningGas = softenings[-1]\n",
    "    gr.SofteningHalo = softenings[-1]\n",
    "    gr.SofteningStars = softenings[-1]\n",
    "    \n",
    "    # low-resolution softenings\n",
    "    gr.SofteningBndry = softenings[0]\n",
    "    \n",
    "    medium_softening = 0\n",
    "    rest = softenings[1:-1]\n",
    "    for softening in rest:\n",
    "        medium_softening += softening\n",
    "    medium_softening /= len(rest)\n",
    "    \n",
    "    # medium-resolution softenings\n",
    "    gr.SofteningDisk = medium_softening\n",
    "    gr.SofteningBulge = medium_softening\n",
    "    \n",
    "    \n",
    "    gr.SofteningGasMaxPhys = get_maximum_phys_softening(gr.SofteningGas)\n",
    "    gr.SofteningHaloMaxPhys = get_maximum_phys_softening(gr.SofteningHalo)\n",
    "    gr.SofteningDiskMaxPhys = get_maximum_phys_softening(gr.SofteningDisk)\n",
    "    gr.SofteningBulgeMaxPhys = get_maximum_phys_softening(gr.SofteningBulge)\n",
    "    gr.SofteningStarsMaxPhys = get_maximum_phys_softening(gr.SofteningStars)\n",
    "    gr.SofteningBndryMaxPhys = get_maximum_phys_softening(gr.SofteningBndry)\n",
    "    \n",
    "    gr.save()"
   ]
  },
  {
   "cell_type": "code",
   "execution_count": 2,
   "metadata": {
    "collapsed": true
   },
   "outputs": [],
   "source": [
    "from gadget.utils import save_makefile, save_config, save_pbs_file, transfer_to_host"
   ]
  },
  {
   "cell_type": "code",
   "execution_count": 3,
   "metadata": {},
   "outputs": [],
   "source": [
    "gr = GadgetRun.objects.filter(name='136254_DM_L12')[0]"
   ]
  },
  {
   "cell_type": "code",
   "execution_count": 4,
   "metadata": {},
   "outputs": [],
   "source": [
    "save_makefile(gr)"
   ]
  },
  {
   "cell_type": "code",
   "execution_count": 5,
   "metadata": {},
   "outputs": [],
   "source": [
    "save_config(gr)"
   ]
  },
  {
   "cell_type": "code",
   "execution_count": 6,
   "metadata": {},
   "outputs": [],
   "source": [
    "save_pbs_file(gr)"
   ]
  },
  {
   "cell_type": "code",
   "execution_count": 7,
   "metadata": {},
   "outputs": [],
   "source": [
    "transfer_to_host(gr)"
   ]
  },
  {
   "cell_type": "code",
   "execution_count": 8,
   "metadata": {},
   "outputs": [
    {
     "data": {
      "text/plain": [
       "1.0"
      ]
     },
     "execution_count": 8,
     "metadata": {},
     "output_type": "execute_result"
    }
   ],
   "source": [
    "gr.ArtBulkViscConst"
   ]
  },
  {
   "cell_type": "code",
   "execution_count": null,
   "metadata": {
    "collapsed": true
   },
   "outputs": [],
   "source": []
  }
 ],
 "metadata": {
  "kernelspec": {
   "display_name": "Django Shell-Plus",
   "language": "python",
   "name": "django_extensions"
  },
  "language_info": {
   "codemirror_mode": {
    "name": "ipython",
    "version": 3
   },
   "file_extension": ".py",
   "mimetype": "text/x-python",
   "name": "python",
   "nbconvert_exporter": "python",
   "pygments_lexer": "ipython3",
   "version": "3.5.2"
  }
 },
 "nbformat": 4,
 "nbformat_minor": 2
}

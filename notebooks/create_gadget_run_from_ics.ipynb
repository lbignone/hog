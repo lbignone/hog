{
 "cells": [
  {
   "cell_type": "code",
   "execution_count": 1,
   "metadata": {
    "ExecuteTime": {
     "end_time": "2018-02-05T16:52:53.258452Z",
     "start_time": "2018-02-05T16:52:53.250437Z"
    }
   },
   "outputs": [],
   "source": [
    "from music.models import MusicGadgetIc\n",
    "from core.models import Category\n",
    "from music.utils import setup_run\n",
    "from gadget.models import GadgetRun\n",
    "\n",
    "import numpy as np\n",
    "\n",
    "from hog import settings\n",
    "\n",
    "from astropy import units as u\n",
    "\n",
    "\n",
    "from tqdm import tqdm_notebook"
   ]
  },
  {
   "cell_type": "code",
   "execution_count": 2,
   "metadata": {
    "ExecuteTime": {
     "end_time": "2018-02-05T16:52:57.425748Z",
     "start_time": "2018-02-05T16:52:57.420460Z"
    }
   },
   "outputs": [],
   "source": [
    "# cat = Category.objects.filter(name='selection 2')\n",
    "# cat = Category.objects.get(name='Lim_2Rvir')\n",
    "# cat = Category.objects.get(name='Lim_4Rvir')\n",
    "cat = Category.objects.get(name='Lim_4Rvir')\n",
    "\n",
    "ics = MusicGadgetIc.objects.filter(category=cat)"
   ]
  },
  {
   "cell_type": "code",
   "execution_count": 3,
   "metadata": {
    "ExecuteTime": {
     "end_time": "2018-02-05T16:52:59.912284Z",
     "start_time": "2018-02-05T16:52:59.907928Z"
    }
   },
   "outputs": [],
   "source": [
    "def get_ic_location(ic, music_media='/data5/lbignone/hog/media'):\n",
    "\n",
    "    root = settings.MEDIA_ROOT\n",
    "\n",
    "    path = ic.get_path()\n",
    "    path_strip = path[len(root):]\n",
    "    ic_filename = music_media + path_strip + str(ic.id) + '_' + ic.filename\n",
    "\n",
    "    return ic_filename"
   ]
  },
  {
   "cell_type": "code",
   "execution_count": 4,
   "metadata": {
    "ExecuteTime": {
     "end_time": "2017-12-27T18:46:46.402145Z",
     "start_time": "2017-12-27T18:46:46.395541Z"
    }
   },
   "outputs": [],
   "source": [
    "def estimate_softening(boxlength, level, factor=1./25):\n",
    "    d = boxlength / (2**level)\n",
    "    return d/25"
   ]
  },
  {
   "cell_type": "code",
   "execution_count": 5,
   "metadata": {
    "ExecuteTime": {
     "end_time": "2017-12-27T18:46:50.913261Z",
     "start_time": "2017-12-27T18:46:50.906445Z"
    }
   },
   "outputs": [],
   "source": [
    "def get_maximum_phys_softening(softening, redshift_limit=2.91):\n",
    "    a_lim = 1./(1. + redshift_limit)\n",
    "    return a_lim*softening"
   ]
  },
  {
   "cell_type": "code",
   "execution_count": 6,
   "metadata": {
    "ExecuteTime": {
     "end_time": "2017-12-27T18:47:09.746950Z",
     "start_time": "2017-12-27T18:47:09.740605Z"
    }
   },
   "outputs": [],
   "source": [
    "media_root = '/data5/lbignone/hog/media'"
   ]
  },
  {
   "cell_type": "code",
   "execution_count": 7,
   "metadata": {
    "ExecuteTime": {
     "end_time": "2017-12-27T18:47:16.754069Z",
     "start_time": "2017-12-27T18:47:16.564680Z"
    }
   },
   "outputs": [],
   "source": [
    "def set_gr(gr=None, ic=None, music_media='/data5/lbignone/hog/media'):\n",
    "    \n",
    "    # if no gr is provided create one based on the provided ic\n",
    "    if gr is None:\n",
    "    \n",
    "        gr = GadgetRun()\n",
    "        gr.ic = ic\n",
    "    \n",
    "        gr.save()\n",
    "    \n",
    "        name = ic.name\n",
    "        \n",
    "        gr.name = name\n",
    "        gr.category.add(cat)\n",
    "        \n",
    "    else:\n",
    "        ic = gr.ic\n",
    "    \n",
    "    name_id = str(gr.id) + '_' + gr.name\n",
    "    \n",
    "    # makefile options\n",
    "    gr.DOUBLEPRECISION = True\n",
    "    gr.DOUBLEPRECISION_FFTW = True\n",
    "    gr.UNEQUALSOFTENINGS = True\n",
    "    gr.OUTPUTPOTENTIAL = True\n",
    "    gr.PLACEHIGHRESREGION = 3\n",
    "    gr.ENLARGEREGION = 1.2\n",
    "    \n",
    "    # Filenames and file formats \n",
    "    gr.OutputDir = media_root + '/gadget/run/' + name_id\n",
    "    gr.file_number = 10    \n",
    "    gr.InitCondFile = get_ic_location(ic, music_media=music_media)\n",
    "    \n",
    "    # Simulation specific parameters\n",
    "    gr.TimeBegin = 1./(1.+ic.zstart)\n",
    "    gr.boxlength = ic.boxlength * u.Mpc.to('kpc')\n",
    "    gr.Omega_m = ic.Omega_m\n",
    "    gr.Omega_l = ic.Omega_L\n",
    "    gr.Omega_b = ic.Omega_b\n",
    "    gr.h = ic.H0 / 100\n",
    "    \n",
    "    # Output of snapshot files \n",
    "    gr.OutputListOn = True\n",
    "    gr.OutputListFilename = '/home/lbignone/wmmw/ExpansionList_64'\n",
    "    gr.TimeBetStatistics = 0.05\n",
    "    gr.NumFilesWrittenInParallel = 10\n",
    "    \n",
    "    levelmax = ic.levelmax\n",
    "    levelmin = ic.levelmin\n",
    "    \n",
    "    softenings = []\n",
    "    for level in range(levelmin, levelmax+1):\n",
    "        softening = estimate_softening(gr.boxlength, level)\n",
    "        softenings.append(softening)\n",
    "    softenings = np.array(softenings)\n",
    "           \n",
    "    # High-resolution softenings\n",
    "    gr.SofteningGas = softenings[-1]\n",
    "    gr.SofteningHalo = softenings[-1]\n",
    "    gr.SofteningStars = softenings[-1]\n",
    "    \n",
    "    # low-resolution softenings\n",
    "    gr.SofteningBndry = softenings[0]\n",
    "    \n",
    "    # medium-resolution softenings\n",
    "    gr.SofteningDisk = softenings[-2]\n",
    "    \n",
    "    medium_softening = softenings[1:-2].sum() / len(softenings[1:-2])\n",
    "            \n",
    "    gr.SofteningBulge = medium_softening\n",
    "    \n",
    "    gr.SofteningGasMaxPhys = get_maximum_phys_softening(gr.SofteningGas)\n",
    "    gr.SofteningHaloMaxPhys = get_maximum_phys_softening(gr.SofteningHalo)\n",
    "    gr.SofteningDiskMaxPhys = get_maximum_phys_softening(gr.SofteningDisk)\n",
    "    gr.SofteningBulgeMaxPhys = get_maximum_phys_softening(gr.SofteningBulge)\n",
    "    gr.SofteningStarsMaxPhys = get_maximum_phys_softening(gr.SofteningStars)\n",
    "    gr.SofteningBndryMaxPhys = get_maximum_phys_softening(gr.SofteningBndry)\n",
    "    \n",
    "    gr.save()\n",
    "\n"
   ]
  },
  {
   "cell_type": "code",
   "execution_count": 11,
   "metadata": {
    "ExecuteTime": {
     "end_time": "2017-12-27T18:48:46.647145Z",
     "start_time": "2017-12-27T18:48:46.631135Z"
    }
   },
   "outputs": [
    {
     "data": {
      "text/plain": [
       "<PolymorphicQuerySet [<MusicGadgetIc: 135915_DM_L12>]>"
      ]
     },
     "execution_count": 11,
     "metadata": {},
     "output_type": "execute_result"
    }
   ],
   "source": [
    "ics = MusicGadgetIc.objects.filter(category=cat)\n",
    "ics = ics[13:14]\n",
    "\n",
    "ics"
   ]
  },
  {
   "cell_type": "code",
   "execution_count": 12,
   "metadata": {
    "ExecuteTime": {
     "end_time": "2017-12-27T18:48:51.955650Z",
     "start_time": "2017-12-27T18:48:51.724000Z"
    }
   },
   "outputs": [],
   "source": [
    "for ic in ics:\n",
    "    set_gr(gr=None, ic=ic)"
   ]
  },
  {
   "cell_type": "code",
   "execution_count": 33,
   "metadata": {},
   "outputs": [],
   "source": [
    "gr = GadgetRun.objects.filter(name='181619_DM_L12', category=cat)[0]\n",
    "# gr = GadgetRun.objects.filter(name='33306_DM_L12', category=cat)[0]\n",
    "set_gr(gr=gr)"
   ]
  },
  {
   "cell_type": "code",
   "execution_count": 15,
   "metadata": {
    "ExecuteTime": {
     "end_time": "2017-12-27T18:49:14.466662Z",
     "start_time": "2017-12-27T18:49:14.460917Z"
    }
   },
   "outputs": [],
   "source": [
    "from gadget.utils import save_makefile, save_config, save_pbs_file, transfer_to_host"
   ]
  },
  {
   "cell_type": "code",
   "execution_count": 18,
   "metadata": {
    "ExecuteTime": {
     "end_time": "2017-12-22T23:06:40.119612Z",
     "start_time": "2017-12-22T23:06:40.109192Z"
    }
   },
   "outputs": [
    {
     "data": {
      "text/plain": [
       "<PolymorphicQuerySet [<GadgetRun: 181619_DM_L12>]>"
      ]
     },
     "execution_count": 18,
     "metadata": {},
     "output_type": "execute_result"
    }
   ],
   "source": [
    "grs = GadgetRun.objects.filter(category=cat, name='181619_DM_L12')\n",
    "grs"
   ]
  },
  {
   "cell_type": "code",
   "execution_count": 19,
   "metadata": {
    "ExecuteTime": {
     "end_time": "2017-12-22T23:06:45.278868Z",
     "start_time": "2017-12-22T23:06:45.265377Z"
    }
   },
   "outputs": [
    {
     "name": "stdout",
     "output_type": "stream",
     "text": [
      "181619_DM_L12\n",
      "480\n"
     ]
    }
   ],
   "source": [
    "gr = grs[0]\n",
    "print(gr)\n",
    "print(gr.id)"
   ]
  },
  {
   "cell_type": "code",
   "execution_count": 20,
   "metadata": {
    "ExecuteTime": {
     "end_time": "2017-12-22T23:06:49.674584Z",
     "start_time": "2017-12-22T23:06:49.668069Z"
    }
   },
   "outputs": [
    {
     "data": {
      "text/plain": [
       "<Category: Lim_6Rvir>"
      ]
     },
     "execution_count": 20,
     "metadata": {},
     "output_type": "execute_result"
    }
   ],
   "source": [
    "cat"
   ]
  },
  {
   "cell_type": "code",
   "execution_count": 13,
   "metadata": {
    "ExecuteTime": {
     "end_time": "2017-12-27T18:49:04.272085Z",
     "start_time": "2017-12-27T18:49:04.247445Z"
    }
   },
   "outputs": [
    {
     "name": "stdout",
     "output_type": "stream",
     "text": [
      "481\n"
     ]
    },
    {
     "data": {
      "text/plain": [
       "<GadgetRun: 135915_DM_L12>"
      ]
     },
     "execution_count": 13,
     "metadata": {},
     "output_type": "execute_result"
    }
   ],
   "source": [
    "# gr = GadgetRun.objects.filter(name='147062_DM_L12', category=cat)[0]\n",
    "# gr = GadgetRun.objects.filter(name='33306_DM_L12', category=cat)[0]\n",
    "# gr = GadgetRun.objects.filter(name='70495_DM_L12', category=cat)[0]\n",
    "# gr = GadgetRun.objects.filter(name='32879_DM_L12', category=cat)[0]\n",
    "# gr = GadgetRun.objects.filter(name='1330_DM_L12', category=cat)[0]\n",
    "# gr = GadgetRun.objects.filter(name='193602_DM_L12', category=cat)[0]\n",
    "# gr = GadgetRun.objects.filter(name='136001_DM_L12', category=cat)[0]\n",
    "# gr = GadgetRun.objects.filter(name='206312_DM_L12', category=cat)[0]\n",
    "# gr = GadgetRun.objects.filter(name='181619_DM_L12', category=cat)[0]\n",
    "gr = GadgetRun.objects.filter(name='135915_DM_L12', category=cat)[0]\n",
    "\n",
    "print(gr.id)\n",
    "gr"
   ]
  },
  {
   "cell_type": "code",
   "execution_count": 16,
   "metadata": {
    "ExecuteTime": {
     "end_time": "2017-12-27T18:49:20.184257Z",
     "start_time": "2017-12-27T18:49:18.951447Z"
    }
   },
   "outputs": [],
   "source": [
    "save_makefile(gr, systype='NLHPC_intel')\n",
    "save_config(gr)\n",
    "\n",
    "modules = 'module load intel impi fftw_intel/2.1.5 gsl'\n",
    "\n",
    "save_pbs_file(gr, nodes=6, ppn=20, template='nlhpc.pbs', module_load_list=modules)\n",
    "transfer_to_host(gr, host='leftraru.nlhpc.cl', media_path='/home/lbignone/hog/media/')\n"
   ]
  },
  {
   "cell_type": "code",
   "execution_count": 10,
   "metadata": {
    "ExecuteTime": {
     "end_time": "2017-11-08T14:33:07.427341Z",
     "start_time": "2017-11-08T14:32:55.041904Z"
    }
   },
   "outputs": [],
   "source": [
    "save_makefile(gr, systype='Geryon2_gnu')\n",
    "save_config(gr)\n",
    "save_pbs_file(gr, nodes=3, ppn=40, template='geryon.pbs', module_load_list='gnu')\n",
    "transfer_to_host(gr, host='geryon2', media_path='/fast_scratch1/lbignone/hog/media/')"
   ]
  },
  {
   "cell_type": "code",
   "execution_count": null,
   "metadata": {},
   "outputs": [],
   "source": []
  }
 ],
 "metadata": {
  "kernelspec": {
   "display_name": "Django Shell-Plus",
   "language": "python",
   "name": "django_extensions"
  },
  "language_info": {
   "codemirror_mode": {
    "name": "ipython",
    "version": 3
   },
   "file_extension": ".py",
   "mimetype": "text/x-python",
   "name": "python",
   "nbconvert_exporter": "python",
   "pygments_lexer": "ipython3",
   "version": "3.5.2"
  },
  "toc": {
   "colors": {
    "hover_highlight": "#DAA520",
    "navigate_num": "#000000",
    "navigate_text": "#333333",
    "running_highlight": "#FF0000",
    "selected_highlight": "#FFD700",
    "sidebar_border": "#EEEEEE",
    "wrapper_background": "#FFFFFF"
   },
   "moveMenuLeft": true,
   "nav_menu": {
    "height": "12px",
    "width": "252px"
   },
   "navigate_menu": true,
   "number_sections": true,
   "sideBar": true,
   "threshold": 4,
   "toc_cell": false,
   "toc_section_display": "block",
   "toc_window_display": false,
   "widenNotebook": false
  }
 },
 "nbformat": 4,
 "nbformat_minor": 2
}

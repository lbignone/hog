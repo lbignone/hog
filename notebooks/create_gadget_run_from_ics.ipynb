{
 "cells": [
  {
   "cell_type": "code",
   "execution_count": 1,
   "metadata": {
    "collapsed": true
   },
   "outputs": [],
   "source": [
    "from music.models import MusicGadgetIc\n",
    "from core.models import Category\n",
    "from music.utils import setup_run\n",
    "from gadget.models import GadgetRun\n",
    "\n",
    "import numpy as np\n",
    "\n",
    "from hog import settings\n",
    "\n",
    "from astropy import units as u\n",
    "\n",
    "\n",
    "from tqdm import tqdm_notebook"
   ]
  },
  {
   "cell_type": "code",
   "execution_count": 2,
   "metadata": {
    "collapsed": true
   },
   "outputs": [],
   "source": [
    "# cat = Category.objects.filter(name='selection 2')\n",
    "# cat = Category.objects.get(name='Lim_2Rvir')\n",
    "cat = Category.objects.get(name='Lim_4Rvir')\n",
    "\n",
    "ics = MusicGadgetIc.objects.filter(category=cat)"
   ]
  },
  {
   "cell_type": "code",
   "execution_count": 3,
   "metadata": {
    "collapsed": true
   },
   "outputs": [],
   "source": [
    "def get_ic_location(ic, music_media='/data5/lbignone/hog/media'):\n",
    "\n",
    "    root = settings.MEDIA_ROOT\n",
    "\n",
    "    path = ic.get_path()\n",
    "    path_strip = path[len(root):]\n",
    "    ic_filename = music_media + path_strip + str(ic.id) + '_' + ic.filename\n",
    "\n",
    "    return ic_filename"
   ]
  },
  {
   "cell_type": "code",
   "execution_count": 4,
   "metadata": {
    "collapsed": true
   },
   "outputs": [],
   "source": [
    "def estimate_softening(boxlength, level, factor=1./25):\n",
    "    d = boxlength / (2**level)\n",
    "    return d/25"
   ]
  },
  {
   "cell_type": "code",
   "execution_count": 5,
   "metadata": {
    "collapsed": true
   },
   "outputs": [],
   "source": [
    "def get_maximum_phys_softening(softening, redshift_limit=2.91):\n",
    "    a_lim = 1./(1. + redshift_limit)\n",
    "    return a_lim*softening"
   ]
  },
  {
   "cell_type": "code",
   "execution_count": 6,
   "metadata": {
    "collapsed": true
   },
   "outputs": [],
   "source": [
    "media_root = '/fast_scratch1/lbignone/hog/media'"
   ]
  },
  {
   "cell_type": "code",
   "execution_count": 7,
   "metadata": {
    "collapsed": true
   },
   "outputs": [],
   "source": [
    "def set_gr(gr=None, ic=None):\n",
    "    \n",
    "    # if no gr is provided create one based on the provided ic\n",
    "    if gr is None:\n",
    "    \n",
    "        gr = GadgetRun()\n",
    "        gr.ic = ic\n",
    "    \n",
    "        gr.save()\n",
    "    \n",
    "        name = ic.name\n",
    "        \n",
    "        gr.name = name\n",
    "        gr.category.add(cat)\n",
    "        \n",
    "    else:\n",
    "        ic = gr.ic\n",
    "    \n",
    "    name_id = str(gr.id) + '_' + gr.name\n",
    "    \n",
    "    # makefile options\n",
    "    gr.DOUBLEPRECISION = True\n",
    "    gr.DOUBLEPRECISION_FFTW = True\n",
    "    gr.UNEQUALSOFTENINGS = True\n",
    "    gr.OUTPUTPOTENTIAL = True\n",
    "    gr.PLACEHIGHRESREGION = 3\n",
    "    gr.ENLARGEREGION = 1.2\n",
    "    \n",
    "    # Filenames and file formats \n",
    "    gr.OutputDir = media_root + '/gadget/run/' + name_id\n",
    "    gr.file_number = 10    \n",
    "    gr.InitCondFile = get_ic_location(ic)\n",
    "    \n",
    "    # Simulation specific parameters\n",
    "    gr.TimeBegin = 1./(1.+ic.zstart)\n",
    "    gr.boxlength = ic.boxlength * u.Mpc.to('kpc')\n",
    "    gr.Omega_m = ic.Omega_m\n",
    "    gr.Omega_l = ic.Omega_L\n",
    "    gr.Omega_b = ic.Omega_b\n",
    "    gr.h = ic.H0 / 100\n",
    "    \n",
    "    # Output of snapshot files \n",
    "    gr.OutputListOn = True\n",
    "    gr.OutputListFilename = '/home/lbignone/wmmw/ExpansionList_128'\n",
    "    gr.TimeBetStatistics = 0.05\n",
    "    gr.NumFilesWrittenInParallel = 10\n",
    "    \n",
    "    levelmax = ic.levelmax\n",
    "    levelmin = ic.levelmin\n",
    "    \n",
    "    softenings = []\n",
    "    for level in range(levelmin, levelmax+1):\n",
    "        softening = estimate_softening(gr.boxlength, level)\n",
    "        softenings.append(softening)\n",
    "    softenings = np.array(softenings)\n",
    "           \n",
    "    # High-resolution softenings\n",
    "    gr.SofteningGas = softenings[-1]\n",
    "    gr.SofteningHalo = softenings[-1]\n",
    "    gr.SofteningStars = softenings[-1]\n",
    "    \n",
    "    # low-resolution softenings\n",
    "    gr.SofteningBndry = softenings[0]\n",
    "    \n",
    "    # medium-resolution softenings\n",
    "    gr.SofteningDisk = softenings[-2]\n",
    "    \n",
    "    medium_softening = softenings[1:-2].sum() / len(softenings[1:-2])\n",
    "            \n",
    "    gr.SofteningBulge = medium_softening\n",
    "    \n",
    "    gr.SofteningGasMaxPhys = get_maximum_phys_softening(gr.SofteningGas)\n",
    "    gr.SofteningHaloMaxPhys = get_maximum_phys_softening(gr.SofteningHalo)\n",
    "    gr.SofteningDiskMaxPhys = get_maximum_phys_softening(gr.SofteningDisk)\n",
    "    gr.SofteningBulgeMaxPhys = get_maximum_phys_softening(gr.SofteningBulge)\n",
    "    gr.SofteningStarsMaxPhys = get_maximum_phys_softening(gr.SofteningStars)\n",
    "    gr.SofteningBndryMaxPhys = get_maximum_phys_softening(gr.SofteningBndry)\n",
    "    \n",
    "    gr.save()\n",
    "\n"
   ]
  },
  {
   "cell_type": "code",
   "execution_count": 8,
   "metadata": {
    "collapsed": true
   },
   "outputs": [],
   "source": [
    "for ic in ics:\n",
    "    set_gr(gr=None, ic=ic)"
   ]
  },
  {
   "cell_type": "code",
   "execution_count": 32,
   "metadata": {
    "collapsed": true
   },
   "outputs": [],
   "source": [
    "# gr = GadgetRun.objects.filter(name='136254_DM_L12', category=cat)[0]\n",
    "gr = GadgetRun.objects.filter(name='33306_DM_L12', category=cat)[0]\n",
    "set_gr(gr=gr)"
   ]
  },
  {
   "cell_type": "code",
   "execution_count": 14,
   "metadata": {
    "collapsed": true
   },
   "outputs": [],
   "source": [
    "from gadget.utils import save_makefile, save_config, save_pbs_file, transfer_to_host"
   ]
  },
  {
   "cell_type": "code",
   "execution_count": 20,
   "metadata": {},
   "outputs": [
    {
     "name": "stdout",
     "output_type": "stream",
     "text": [
      "443\n"
     ]
    },
    {
     "data": {
      "text/plain": [
       "<GadgetRun: 33306_DM_L12>"
      ]
     },
     "execution_count": 20,
     "metadata": {},
     "output_type": "execute_result"
    }
   ],
   "source": [
    "# gr = GadgetRun.objects.filter(name='136254_DM_L12', category=cat)[0]\n",
    "gr = GadgetRun.objects.filter(name='33306_DM_L12', category=cat)[0]\n",
    "print(gr.id)\n",
    "gr"
   ]
  },
  {
   "cell_type": "code",
   "execution_count": 25,
   "metadata": {
    "collapsed": true
   },
   "outputs": [],
   "source": [
    "save_makefile(gr)"
   ]
  },
  {
   "cell_type": "code",
   "execution_count": 26,
   "metadata": {
    "collapsed": true
   },
   "outputs": [],
   "source": [
    "save_config(gr)"
   ]
  },
  {
   "cell_type": "code",
   "execution_count": 27,
   "metadata": {
    "collapsed": true
   },
   "outputs": [],
   "source": [
    "save_pbs_file(gr, nodes=1)"
   ]
  },
  {
   "cell_type": "code",
   "execution_count": 28,
   "metadata": {
    "collapsed": true
   },
   "outputs": [],
   "source": [
    "transfer_to_host(gr)"
   ]
  },
  {
   "cell_type": "code",
   "execution_count": null,
   "metadata": {
    "collapsed": true
   },
   "outputs": [],
   "source": []
  }
 ],
 "metadata": {
  "kernelspec": {
   "display_name": "Django Shell-Plus",
   "language": "python",
   "name": "django_extensions"
  },
  "language_info": {
   "codemirror_mode": {
    "name": "ipython",
    "version": 3
   },
   "file_extension": ".py",
   "mimetype": "text/x-python",
   "name": "python",
   "nbconvert_exporter": "python",
   "pygments_lexer": "ipython3",
   "version": "3.5.2"
  }
 },
 "nbformat": 4,
 "nbformat_minor": 2
}

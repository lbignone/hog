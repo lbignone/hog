{
 "cells": [
  {
   "cell_type": "code",
   "execution_count": 1,
   "metadata": {
    "collapsed": true
   },
   "outputs": [],
   "source": [
    "import pandas as pd\n",
    "import numpy as np\n",
    "from astropy.utils.console import ProgressBar\n",
    "\n",
    "from tqdm import tqdm_notebook\n",
    "\n",
    "from matplotlib import pyplot as plt\n",
    "%matplotlib inline"
   ]
  },
  {
   "cell_type": "code",
   "execution_count": 2,
   "metadata": {
    "collapsed": true
   },
   "outputs": [],
   "source": [
    "from music.models import MusicGadgetIc, MusicEllipsoidRegion\n",
    "from rockstar.models import RockstarCatalogue\n",
    "from core.models import EllipsoidRegion, Category"
   ]
  },
  {
   "cell_type": "code",
   "execution_count": 3,
   "metadata": {
    "collapsed": true
   },
   "outputs": [],
   "source": [
    "from core.utils import create_ellipsoid_region"
   ]
  },
  {
   "cell_type": "code",
   "execution_count": 4,
   "metadata": {
    "collapsed": true
   },
   "outputs": [],
   "source": [
    "from music.utils import create_ic_from_existing"
   ]
  },
  {
   "cell_type": "code",
   "execution_count": 5,
   "metadata": {
    "collapsed": true
   },
   "outputs": [],
   "source": [
    "# df_selected = pd.read_hdf('selected.hdf5', key='2017-07-20 19:24:04.184707')\n",
    "# df_selected = pd.read_hdf('../media/selected.hdf5', key='2017-07-24 20:16:20.495943')\n",
    "df_selected = pd.read_hdf('../media/selected.hdf5', key='selection3')"
   ]
  },
  {
   "cell_type": "code",
   "execution_count": 6,
   "metadata": {
    "collapsed": true
   },
   "outputs": [],
   "source": [
    "sim = Simulation.objects.get(name='out512')\n",
    "snap = sim.snapshot_set.get(snap_number=14)\n",
    "cat = snap.catalogue_set.get()\n",
    "halos = cat.structure_set\n",
    "ic = sim.ic"
   ]
  },
  {
   "cell_type": "code",
   "execution_count": 8,
   "metadata": {},
   "outputs": [],
   "source": [
    "# category = Category.objects.get(name='selection 2')\n",
    "\n",
    "cat_name = 'Lim_4Rvir'\n",
    "\n",
    "category = Category.objects.get(name=cat_name)"
   ]
  },
  {
   "cell_type": "code",
   "execution_count": 9,
   "metadata": {},
   "outputs": [
    {
     "data": {
      "text/plain": [
       "2"
      ]
     },
     "execution_count": 9,
     "metadata": {},
     "output_type": "execute_result"
    }
   ],
   "source": [
    "selected_ids = df_selected.index[:]\n",
    "selected_ids = [33306, 136254]\n",
    "len(selected_ids)"
   ]
  },
  {
   "cell_type": "code",
   "execution_count": 11,
   "metadata": {},
   "outputs": [
    {
     "data": {
      "application/vnd.jupyter.widget-view+json": {
       "model_id": "f918d31d6d5643e3ae7a5af9b025849b",
       "version_major": 2,
       "version_minor": 0
      },
      "text/plain": [
       "A Jupyter Widget"
      ]
     },
     "metadata": {},
     "output_type": "display_data"
    },
    {
     "name": "stdout",
     "output_type": "stream",
     "text": [
      "\n",
      "\n"
     ]
    }
   ],
   "source": [
    "# create regions\n",
    "\n",
    "# rtb = 10\n",
    "# rtb = 5\n",
    "# rtb = 2\n",
    "rtb = 4\n",
    "\n",
    "for hid in tqdm_notebook(selected_ids):\n",
    "    structure = halos.get(rockstarhalo__hid=hid)\n",
    "\n",
    "    # create EllipsoidRegion\n",
    "    region = create_ellipsoid_region(structure, rtb=rtb)\n",
    "    region.category.add(category)\n",
    "    region.save()\n",
    "    \n",
    "    # region = regions.get(structure=structure)\n",
    "        \n",
    "    # create MusicEllipsoidRegion\n",
    "    region = MusicEllipsoidRegion(region=region)\n",
    "    region.save()"
   ]
  },
  {
   "cell_type": "code",
   "execution_count": 12,
   "metadata": {
    "collapsed": true
   },
   "outputs": [],
   "source": [
    "halo_ids = df_selected.index\n",
    "# halo_ids = halo_ids.drop([33306, 124429])\n",
    "halo_ids = [33306, 136254]\n"
   ]
  },
  {
   "cell_type": "code",
   "execution_count": 13,
   "metadata": {},
   "outputs": [
    {
     "data": {
      "application/vnd.jupyter.widget-view+json": {
       "model_id": "b8e40d1d2f4840afaf9263b7ab5eaac2",
       "version_major": 2,
       "version_minor": 0
      },
      "text/plain": [
       "A Jupyter Widget"
      ]
     },
     "metadata": {},
     "output_type": "display_data"
    },
    {
     "name": "stdout",
     "output_type": "stream",
     "text": [
      "\n"
     ]
    }
   ],
   "source": [
    "# category = Category.objects.get(name='selection 2')\n",
    "# category = Category.objects.get(name='Lim_5Rvir')\n",
    "category = Category.objects.get(name=cat_name)\n",
    "\n",
    "level = 12\n",
    "if level>=12:\n",
    "    spreadcoarse = False\n",
    "    post_action = 'python $HOME/wmmw/initial_conditions/spread.py *.dat'\n",
    "else:\n",
    "    spreadcoarse = True\n",
    "\n",
    "with ProgressBar(len(halo_ids), ipython_widget=True) as pbar:\n",
    "    for hid in halo_ids:\n",
    "        \n",
    "        # category = root_cat.children.get(name=str(hid))\n",
    "        # category = category.children.get(name='DM')\n",
    "        \n",
    "        new_ic = create_ic_from_existing(ic)\n",
    "        \n",
    "        structure = halos.get(rockstarhalo__hid=hid)\n",
    "        region = Region.objects.get(structure=structure, category=category)\n",
    "        region = MusicEllipsoidRegion.objects.get(region=region)\n",
    "        \n",
    "        new_ic.region = region\n",
    "        # new_ic.levelmin = 8\n",
    "        new_ic.levelmin = 7\n",
    "        new_ic.levelmax = level\n",
    "        \n",
    "        new_ic.padding = 6\n",
    "        new_ic.overlap = 4\n",
    "        \n",
    "        new_ic.gadget_spreadcoarse = spreadcoarse\n",
    "        new_ic.post_action = post_action\n",
    "        new_ic.category.add(category)\n",
    "        new_ic.name = '{hid:d}_DM_L{level:d}'.format(hid=hid, level=level)\n",
    "        new_ic.filename = new_ic.name + '.dat'\n",
    "        \n",
    "        new_ic.save()\n",
    "        \n",
    "        pbar.update()"
   ]
  },
  {
   "cell_type": "code",
   "execution_count": null,
   "metadata": {
    "collapsed": true
   },
   "outputs": [],
   "source": [
    "gr."
   ]
  }
 ],
 "metadata": {
  "kernelspec": {
   "display_name": "Django Shell-Plus",
   "language": "python",
   "name": "django_extensions"
  },
  "language_info": {
   "codemirror_mode": {
    "name": "ipython",
    "version": 3
   },
   "file_extension": ".py",
   "mimetype": "text/x-python",
   "name": "python",
   "nbconvert_exporter": "python",
   "pygments_lexer": "ipython3",
   "version": "3.5.2"
  }
 },
 "nbformat": 4,
 "nbformat_minor": 2
}

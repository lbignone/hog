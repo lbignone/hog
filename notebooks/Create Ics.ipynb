{
 "cells": [
  {
   "cell_type": "code",
   "execution_count": 1,
   "metadata": {
    "collapsed": true
   },
   "outputs": [],
   "source": [
    "import pandas as pd\n",
    "import numpy as np\n",
    "from astropy.utils.console import ProgressBar\n",
    "\n",
    "from matplotlib import pyplot as plt\n",
    "%matplotlib inline"
   ]
  },
  {
   "cell_type": "code",
   "execution_count": 2,
   "metadata": {
    "collapsed": true
   },
   "outputs": [],
   "source": [
    "from music.models import MusicGadgetIc, MusicEllipsoidRegion\n",
    "from rockstar.models import RockstarCatalogue\n",
    "from core.models import EllipsoidRegion, Category"
   ]
  },
  {
   "cell_type": "code",
   "execution_count": 3,
   "metadata": {
    "collapsed": true
   },
   "outputs": [],
   "source": [
    "from core.utils import create_ellipsoid_region"
   ]
  },
  {
   "cell_type": "code",
   "execution_count": 4,
   "metadata": {
    "collapsed": true
   },
   "outputs": [],
   "source": [
    "from music.utils import create_ic_from_existing"
   ]
  },
  {
   "cell_type": "code",
   "execution_count": 5,
   "metadata": {
    "collapsed": true
   },
   "outputs": [],
   "source": [
    "# df_selected = pd.read_hdf('selected.hdf5', key='2017-07-20 19:24:04.184707')\n",
    "df_selected = pd.read_hdf('../media/selected.hdf5', key='2017-07-24 20:16:20.495943')"
   ]
  },
  {
   "cell_type": "code",
   "execution_count": 6,
   "metadata": {
    "collapsed": true
   },
   "outputs": [],
   "source": [
    "sim = Simulation.objects.get(name='out512')\n",
    "snap = sim.snapshot_set.get(snap_number=14)\n",
    "cat = snap.catalogue_set.get()\n",
    "halos = cat.structure_set\n",
    "ic = sim.ic"
   ]
  },
  {
   "cell_type": "code",
   "execution_count": 7,
   "metadata": {
    "collapsed": true
   },
   "outputs": [],
   "source": [
    "category = Category.objects.get(name='selection 2')"
   ]
  },
  {
   "cell_type": "code",
   "execution_count": 9,
   "metadata": {},
   "outputs": [
    {
     "data": {
      "text/plain": [
       "Int64Index([21720], dtype='int64', name='hid')"
      ]
     },
     "execution_count": 9,
     "metadata": {},
     "output_type": "execute_result"
    }
   ],
   "source": [
    "selected_ids = df_selected.index[28:]\n",
    "selected_ids"
   ]
  },
  {
   "cell_type": "code",
   "execution_count": 10,
   "metadata": {
    "collapsed": true
   },
   "outputs": [],
   "source": [
    "# create regions\n",
    "\n",
    "for hid in selected_ids:\n",
    "    structure = halos.get(rockstarhalo__hid=hid)\n",
    "\n",
    "    # create EllipsoidRegion\n",
    "    region = create_ellipsoid_region(structure, rtb=10.0)\n",
    "    region.category.add(category)\n",
    "    region.save()\n",
    "    \n",
    "    # region = regions.get(structure=structure)\n",
    "        \n",
    "    # create MusicEllipsoidRegion\n",
    "    region = MusicEllipsoidRegion(region=region)\n",
    "    region.save()"
   ]
  },
  {
   "cell_type": "code",
   "execution_count": 19,
   "metadata": {},
   "outputs": [
    {
     "data": {
      "text/plain": [
       "Int64Index([ 79956,  33296,  95915, 116774, 241738, 241466, 206641, 229533,\n",
       "            124429,  32879,  70495,  47855, 147062, 136254, 136001, 206312,\n",
       "             79392, 193602,   1330, 146616, 123930,  21971, 135915, 181619,\n",
       "            228167,    641, 146457,  21720],\n",
       "           dtype='int64', name='hid')"
      ]
     },
     "execution_count": 19,
     "metadata": {},
     "output_type": "execute_result"
    }
   ],
   "source": [
    "halo_ids = df_selected.index\n",
    "halo_ids = halo_ids.drop([33306, 124429])\n",
    "halo_ids\n"
   ]
  },
  {
   "cell_type": "code",
   "execution_count": 21,
   "metadata": {},
   "outputs": [
    {
     "data": {
      "application/vnd.jupyter.widget-view+json": {
       "model_id": "c0757cebec634847a7e8a5613d4584d3"
      }
     },
     "metadata": {},
     "output_type": "display_data"
    },
    {
     "name": "stdout",
     "output_type": "stream",
     "text": [
      "\n"
     ]
    }
   ],
   "source": [
    "category = Category.objects.get(name='selection 2')\n",
    "\n",
    "level = 12\n",
    "if level==12:\n",
    "    spreadcoarse = False\n",
    "else:\n",
    "    spreadcoarse = True\n",
    "\n",
    "with ProgressBar(len(halo_ids), ipython_widget=True) as pbar:\n",
    "    for hid in halo_ids:\n",
    "        \n",
    "        # category = root_cat.children.get(name=str(hid))\n",
    "        # category = category.children.get(name='DM')\n",
    "        \n",
    "        new_ic = create_ic_from_existing(ic)\n",
    "        \n",
    "        structure = halos.get(rockstarhalo__hid=hid)\n",
    "        region = Region.objects.get(structure=structure)\n",
    "        region = MusicEllipsoidRegion.objects.get(region=region)\n",
    "        \n",
    "        new_ic.region = region\n",
    "        new_ic.levelmin = 8\n",
    "        new_ic.levelmax = level\n",
    "        \n",
    "        new_ic.padding = 6\n",
    "        new_ic.overlap = 4\n",
    "        \n",
    "        new_ic.gadget_spreadcoarse = spreadcoarse\n",
    "        new_ic.category.add(category)\n",
    "        new_ic.name = '{hid:d}_DM_L{level:d}'.format(hid=hid, level=level)\n",
    "        new_ic.filename = new_ic.name + '.dat'\n",
    "        \n",
    "        new_ic.save()\n",
    "        \n",
    "        pbar.update()"
   ]
  },
  {
   "cell_type": "code",
   "execution_count": null,
   "metadata": {
    "collapsed": true
   },
   "outputs": [],
   "source": []
  }
 ],
 "metadata": {
  "kernelspec": {
   "display_name": "Django Shell-Plus",
   "language": "python",
   "name": "django_extensions"
  },
  "language_info": {
   "codemirror_mode": {
    "name": "ipython",
    "version": 3
   },
   "file_extension": ".py",
   "mimetype": "text/x-python",
   "name": "python",
   "nbconvert_exporter": "python",
   "pygments_lexer": "ipython3",
   "version": "3.5.2"
  }
 },
 "nbformat": 4,
 "nbformat_minor": 2
}

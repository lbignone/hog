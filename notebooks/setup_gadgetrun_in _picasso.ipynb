{
 "cells": [
  {
   "cell_type": "code",
   "execution_count": 1,
   "metadata": {
    "ExecuteTime": {
     "end_time": "2018-05-17T18:29:59.413686Z",
     "start_time": "2018-05-17T18:29:59.410561Z"
    }
   },
   "outputs": [],
   "source": [
    "from gadget.models import Gadget3Run\n",
    "from core.models import Category\n",
    "\n",
    "from gadget.utils import save_config, save_makefile, save_pbs_file, transfer_to_host"
   ]
  },
  {
   "cell_type": "code",
   "execution_count": 2,
   "metadata": {
    "ExecuteTime": {
     "end_time": "2018-05-17T18:29:59.716030Z",
     "start_time": "2018-05-17T18:29:59.710745Z"
    }
   },
   "outputs": [],
   "source": [
    "cat = Category.objects.filter(name='Picasso')[0]"
   ]
  },
  {
   "cell_type": "code",
   "execution_count": 3,
   "metadata": {
    "ExecuteTime": {
     "end_time": "2018-05-17T18:30:00.181917Z",
     "start_time": "2018-05-17T18:30:00.178894Z"
    }
   },
   "outputs": [],
   "source": [
    "grs = Gadget3Run.objects.filter(category=cat)"
   ]
  },
  {
   "cell_type": "code",
   "execution_count": 4,
   "metadata": {
    "ExecuteTime": {
     "end_time": "2018-05-17T18:30:00.718375Z",
     "start_time": "2018-05-17T18:30:00.708346Z"
    }
   },
   "outputs": [],
   "source": [
    "gr = grs[0]"
   ]
  },
  {
   "cell_type": "code",
   "execution_count": 5,
   "metadata": {
    "ExecuteTime": {
     "end_time": "2018-05-17T18:30:01.267516Z",
     "start_time": "2018-05-17T18:30:01.263707Z"
    }
   },
   "outputs": [],
   "source": [
    "save_makefile(gr, systype='Picasso_intel')"
   ]
  },
  {
   "cell_type": "code",
   "execution_count": 6,
   "metadata": {
    "ExecuteTime": {
     "end_time": "2018-05-17T18:30:01.762900Z",
     "start_time": "2018-05-17T18:30:01.760034Z"
    }
   },
   "outputs": [],
   "source": [
    "save_config(gr, isGadget3=True)"
   ]
  },
  {
   "cell_type": "code",
   "execution_count": 7,
   "metadata": {
    "ExecuteTime": {
     "end_time": "2018-05-17T18:30:02.203988Z",
     "start_time": "2018-05-17T18:30:02.201403Z"
    }
   },
   "outputs": [],
   "source": [
    "save_pbs_file(gr, template='picasso.pbs', nodes=8, ppn=16)"
   ]
  },
  {
   "cell_type": "code",
   "execution_count": 8,
   "metadata": {
    "ExecuteTime": {
     "end_time": "2018-05-17T18:30:08.293469Z",
     "start_time": "2018-05-17T18:30:02.782381Z"
    }
   },
   "outputs": [],
   "source": [
    "transfer_to_host(gr, host='picasso', media_path='/mnt/scratch/users/unab90_res/unab90537/hog/media/')"
   ]
  },
  {
   "cell_type": "code",
   "execution_count": null,
   "metadata": {},
   "outputs": [],
   "source": []
  }
 ],
 "metadata": {
  "kernelspec": {
   "display_name": "Django Shell-Plus",
   "language": "python",
   "name": "django_extensions"
  },
  "language_info": {
   "codemirror_mode": {
    "name": "ipython",
    "version": 3
   },
   "file_extension": ".py",
   "mimetype": "text/x-python",
   "name": "python",
   "nbconvert_exporter": "python",
   "pygments_lexer": "ipython3",
   "version": "3.5.2"
  },
  "toc": {
   "colors": {
    "hover_highlight": "#DAA520",
    "navigate_num": "#000000",
    "navigate_text": "#333333",
    "running_highlight": "#FF0000",
    "selected_highlight": "#FFD700",
    "sidebar_border": "#EEEEEE",
    "wrapper_background": "#FFFFFF"
   },
   "moveMenuLeft": true,
   "nav_menu": {
    "height": "12px",
    "width": "252px"
   },
   "navigate_menu": true,
   "number_sections": true,
   "sideBar": true,
   "threshold": 4,
   "toc_cell": false,
   "toc_section_display": "block",
   "toc_window_display": false,
   "widenNotebook": false
  }
 },
 "nbformat": 4,
 "nbformat_minor": 2
}

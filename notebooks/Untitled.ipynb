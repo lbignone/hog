{
 "cells": [
  {
   "cell_type": "code",
   "execution_count": 1,
   "metadata": {
    "ExecuteTime": {
     "end_time": "2018-02-05T21:06:23.670015Z",
     "start_time": "2018-02-05T21:06:23.236656Z"
    }
   },
   "outputs": [],
   "source": [
    "from gadget.pygadget import Simulation\n",
    "from struct import pack, unpack\n",
    "import sys\n",
    "\n",
    "from numpy import fromstring\n",
    "\n",
    "particle_keys = [\n",
    "            \"gas\",\n",
    "            \"halo\",\n",
    "            \"disk\",\n",
    "            \"buldge\",\n",
    "            \"stars\",\n",
    "            \"bndry\",\n",
    "        ]\n",
    "\n",
    "types_n = len(particle_keys)"
   ]
  },
  {
   "cell_type": "code",
   "execution_count": 2,
   "metadata": {
    "ExecuteTime": {
     "end_time": "2018-02-05T21:06:28.220618Z",
     "start_time": "2018-02-05T21:06:28.218599Z"
    }
   },
   "outputs": [],
   "source": [
    "fname = '/media/data1/lbignone/643_123930_DM_L12.dat'\n",
    "fname2 = fname.split('.')[0] + '_spread.' + fname.split('.')[1]"
   ]
  },
  {
   "cell_type": "code",
   "execution_count": 3,
   "metadata": {
    "ExecuteTime": {
     "end_time": "2018-02-05T21:06:29.946905Z",
     "start_time": "2018-02-05T21:06:29.944264Z"
    }
   },
   "outputs": [],
   "source": [
    "snap = Simulation(fname, skip_file_check=True)"
   ]
  },
  {
   "cell_type": "code",
   "execution_count": 4,
   "metadata": {
    "ExecuteTime": {
     "end_time": "2018-02-05T21:06:32.481631Z",
     "start_time": "2018-02-05T21:06:32.449127Z"
    }
   },
   "outputs": [],
   "source": [
    "mass = snap.read_block(\"mass\", \"bndry\")"
   ]
  },
  {
   "cell_type": "code",
   "execution_count": 5,
   "metadata": {
    "ExecuteTime": {
     "end_time": "2018-02-05T21:06:33.466634Z",
     "start_time": "2018-02-05T21:06:33.464010Z"
    }
   },
   "outputs": [],
   "source": [
    "g = mass.groupby(\"mass\")"
   ]
  },
  {
   "cell_type": "code",
   "execution_count": 6,
   "metadata": {
    "ExecuteTime": {
     "end_time": "2018-02-05T21:06:34.207136Z",
     "start_time": "2018-02-05T21:06:34.026019Z"
    }
   },
   "outputs": [
    {
     "data": {
      "text/plain": [
       "Float64Index([0.000128422514535,  0.00102738011628,  0.00821904093027,\n",
       "                0.0657523274422,    0.526018619537],\n",
       "             dtype='float64', name='mass')"
      ]
     },
     "execution_count": 6,
     "metadata": {},
     "output_type": "execute_result"
    }
   ],
   "source": [
    "mass_values = g.size().index\n",
    "mass_values"
   ]
  },
  {
   "cell_type": "code",
   "execution_count": 7,
   "metadata": {
    "ExecuteTime": {
     "end_time": "2018-02-05T21:06:35.881894Z",
     "start_time": "2018-02-05T21:06:35.842269Z"
    }
   },
   "outputs": [],
   "source": [
    "n = g.size().values"
   ]
  },
  {
   "cell_type": "code",
   "execution_count": 8,
   "metadata": {
    "ExecuteTime": {
     "end_time": "2018-02-05T21:06:37.721613Z",
     "start_time": "2018-02-05T21:06:37.719832Z"
    }
   },
   "outputs": [],
   "source": [
    "snap.particle_numbers['disk'] = n[0]"
   ]
  },
  {
   "cell_type": "code",
   "execution_count": 9,
   "metadata": {
    "ExecuteTime": {
     "end_time": "2018-02-05T21:06:40.673099Z",
     "start_time": "2018-02-05T21:06:40.671260Z"
    }
   },
   "outputs": [],
   "source": [
    "snap.particle_numbers['buldge'] = n[1:-1].sum()"
   ]
  },
  {
   "cell_type": "code",
   "execution_count": 10,
   "metadata": {
    "ExecuteTime": {
     "end_time": "2018-02-05T21:06:41.663976Z",
     "start_time": "2018-02-05T21:06:41.662196Z"
    }
   },
   "outputs": [],
   "source": [
    "snap.particle_numbers['bndry'] = n[-1]"
   ]
  },
  {
   "cell_type": "code",
   "execution_count": 11,
   "metadata": {
    "ExecuteTime": {
     "end_time": "2018-02-05T21:06:42.226096Z",
     "start_time": "2018-02-05T21:06:42.224275Z"
    }
   },
   "outputs": [],
   "source": [
    "snap.particle_mass['disk'] = mass_values[0]"
   ]
  },
  {
   "cell_type": "code",
   "execution_count": 12,
   "metadata": {
    "ExecuteTime": {
     "end_time": "2018-02-05T21:06:43.415888Z",
     "start_time": "2018-02-05T21:06:43.414141Z"
    }
   },
   "outputs": [],
   "source": [
    "snap.particle_mass['bndry'] = mass_values[-1]"
   ]
  },
  {
   "cell_type": "code",
   "execution_count": 13,
   "metadata": {
    "ExecuteTime": {
     "end_time": "2018-02-05T21:07:06.595657Z",
     "start_time": "2018-02-05T21:07:06.593975Z"
    }
   },
   "outputs": [],
   "source": [
    "f = open(fname, 'rb')"
   ]
  },
  {
   "cell_type": "code",
   "execution_count": 37,
   "metadata": {
    "ExecuteTime": {
     "end_time": "2018-02-05T19:52:44.109288Z",
     "start_time": "2018-02-05T19:52:44.106112Z"
    }
   },
   "outputs": [],
   "source": [
    "f_out = open(fname2, 'wb')"
   ]
  },
  {
   "cell_type": "code",
   "execution_count": 28,
   "metadata": {
    "ExecuteTime": {
     "end_time": "2018-02-05T19:48:41.245661Z",
     "start_time": "2018-02-05T19:48:41.243899Z"
    }
   },
   "outputs": [],
   "source": [
    "n_block_mass = 4"
   ]
  },
  {
   "cell_type": "code",
   "execution_count": 29,
   "metadata": {
    "ExecuteTime": {
     "end_time": "2018-02-05T19:51:54.155381Z",
     "start_time": "2018-02-05T19:51:54.147525Z"
    }
   },
   "outputs": [
    {
     "ename": "AssertionError",
     "evalue": "",
     "output_type": "error",
     "traceback": [
      "\u001b[0;31m---------------------------------------------------------------------------\u001b[0m",
      "\u001b[0;31mAssertionError\u001b[0m                            Traceback (most recent call last)",
      "\u001b[0;32m<ipython-input-29-c34cc5ee26c0>\u001b[0m in \u001b[0;36m<module>\u001b[0;34m()\u001b[0m\n\u001b[1;32m      5\u001b[0m     \u001b[0mblock_size2\u001b[0m \u001b[0;34m=\u001b[0m \u001b[0mf\u001b[0m\u001b[0;34m.\u001b[0m\u001b[0mread\u001b[0m\u001b[0;34m(\u001b[0m\u001b[0;36m4\u001b[0m\u001b[0;34m)\u001b[0m\u001b[0;34m\u001b[0m\u001b[0m\n\u001b[1;32m      6\u001b[0m     \u001b[0msize2\u001b[0m \u001b[0;34m=\u001b[0m \u001b[0munpack\u001b[0m\u001b[0;34m(\u001b[0m\u001b[0;34m'i'\u001b[0m\u001b[0;34m,\u001b[0m \u001b[0mblock_size2\u001b[0m\u001b[0;34m)\u001b[0m\u001b[0;34m[\u001b[0m\u001b[0;36m0\u001b[0m\u001b[0;34m]\u001b[0m\u001b[0;34m\u001b[0m\u001b[0m\n\u001b[0;32m----> 7\u001b[0;31m     \u001b[0;32massert\u001b[0m \u001b[0msize\u001b[0m \u001b[0;34m==\u001b[0m \u001b[0msize2\u001b[0m\u001b[0;34m\u001b[0m\u001b[0m\n\u001b[0m\u001b[1;32m      8\u001b[0m \u001b[0;34m\u001b[0m\u001b[0m\n",
      "\u001b[0;31mAssertionError\u001b[0m: "
     ]
    }
   ],
   "source": [
    "for i in range(n_block_mass+1):\n",
    "    block_size = f.read(4)\n",
    "    size = unpack('i', block_size)[0]\n",
    "    f.seek(size, 1)\n",
    "    block_size2 = f.read(4)\n",
    "    size2 = unpack('i', block_size2)[0]\n",
    "    assert size == size2\n",
    "    "
   ]
  },
  {
   "cell_type": "code",
   "execution_count": 124,
   "metadata": {
    "ExecuteTime": {
     "end_time": "2018-02-05T20:35:06.397351Z",
     "start_time": "2018-02-05T20:35:06.395608Z"
    }
   },
   "outputs": [],
   "source": [
    "f = open(fname, 'rb')"
   ]
  },
  {
   "cell_type": "code",
   "execution_count": 28,
   "metadata": {
    "ExecuteTime": {
     "end_time": "2018-02-05T21:08:15.547355Z",
     "start_time": "2018-02-05T21:08:15.544375Z"
    }
   },
   "outputs": [],
   "source": [
    "block_size = f.read(4)\n",
    "size = unpack('i', block_size)[0]\n",
    "f.seek(32185400, 1)\n",
    "block_size2 = f.read(4)\n",
    "size2 = unpack('i', block_size2)[0]"
   ]
  },
  {
   "cell_type": "code",
   "execution_count": 123,
   "metadata": {
    "ExecuteTime": {
     "end_time": "2018-02-05T20:35:02.859119Z",
     "start_time": "2018-02-05T20:35:02.857465Z"
    }
   },
   "outputs": [],
   "source": [
    "f.close()"
   ]
  },
  {
   "cell_type": "code",
   "execution_count": 29,
   "metadata": {
    "ExecuteTime": {
     "end_time": "2018-02-05T21:08:18.120736Z",
     "start_time": "2018-02-05T21:08:18.118541Z"
    }
   },
   "outputs": [
    {
     "data": {
      "text/plain": [
       "32185400"
      ]
     },
     "execution_count": 29,
     "metadata": {},
     "output_type": "execute_result"
    }
   ],
   "source": [
    "size"
   ]
  },
  {
   "cell_type": "code",
   "execution_count": 30,
   "metadata": {
    "ExecuteTime": {
     "end_time": "2018-02-05T21:08:18.919120Z",
     "start_time": "2018-02-05T21:08:18.917030Z"
    }
   },
   "outputs": [
    {
     "data": {
      "text/plain": [
       "32185400"
      ]
     },
     "execution_count": 30,
     "metadata": {},
     "output_type": "execute_result"
    }
   ],
   "source": [
    "size2"
   ]
  },
  {
   "cell_type": "code",
   "execution_count": 17,
   "metadata": {
    "ExecuteTime": {
     "end_time": "2018-02-05T21:07:26.512643Z",
     "start_time": "2018-02-05T21:07:26.510258Z"
    }
   },
   "outputs": [
    {
     "data": {
      "text/plain": [
       "{'bndry': 8046350,\n",
       " 'buldge': 0,\n",
       " 'disk': 0,\n",
       " 'gas': 0,\n",
       " 'halo': 414515056,\n",
       " 'stars': 0}"
      ]
     },
     "execution_count": 17,
     "metadata": {},
     "output_type": "execute_result"
    }
   ],
   "source": [
    "snap.particle_total_numbers"
   ]
  },
  {
   "cell_type": "code",
   "execution_count": 18,
   "metadata": {
    "ExecuteTime": {
     "end_time": "2018-02-05T21:07:32.708476Z",
     "start_time": "2018-02-05T21:07:32.706113Z"
    }
   },
   "outputs": [
    {
     "data": {
      "text/plain": [
       "{'header': 256,\n",
       " 'hsml': 0,\n",
       " 'id': 1690245624,\n",
       " 'mass': 32185400,\n",
       " 'pos': 5070736872,\n",
       " 'rho': 0,\n",
       " 'u': 0,\n",
       " 'vel': 5070736872}"
      ]
     },
     "execution_count": 18,
     "metadata": {},
     "output_type": "execute_result"
    }
   ],
   "source": [
    "snap.block_sizes"
   ]
  },
  {
   "cell_type": "code",
   "execution_count": 78,
   "metadata": {
    "ExecuteTime": {
     "end_time": "2018-02-05T20:29:53.798646Z",
     "start_time": "2018-02-05T20:29:53.797076Z"
    }
   },
   "outputs": [],
   "source": [
    "f.close()"
   ]
  },
  {
   "cell_type": "code",
   "execution_count": null,
   "metadata": {},
   "outputs": [],
   "source": []
  }
 ],
 "metadata": {
  "kernelspec": {
   "display_name": "Python 3",
   "language": "python",
   "name": "python3"
  },
  "language_info": {
   "codemirror_mode": {
    "name": "ipython",
    "version": 3
   },
   "file_extension": ".py",
   "mimetype": "text/x-python",
   "name": "python",
   "nbconvert_exporter": "python",
   "pygments_lexer": "ipython3",
   "version": "3.5.2"
  },
  "toc": {
   "colors": {
    "hover_highlight": "#DAA520",
    "navigate_num": "#000000",
    "navigate_text": "#333333",
    "running_highlight": "#FF0000",
    "selected_highlight": "#FFD700",
    "sidebar_border": "#EEEEEE",
    "wrapper_background": "#FFFFFF"
   },
   "moveMenuLeft": true,
   "nav_menu": {
    "height": "12px",
    "width": "252px"
   },
   "navigate_menu": true,
   "number_sections": true,
   "sideBar": true,
   "threshold": 4,
   "toc_cell": false,
   "toc_section_display": "block",
   "toc_window_display": false,
   "widenNotebook": false
  }
 },
 "nbformat": 4,
 "nbformat_minor": 2
}
